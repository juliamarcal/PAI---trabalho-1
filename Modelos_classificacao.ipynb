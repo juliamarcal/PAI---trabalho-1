{
  "cells": [
    {
      "cell_type": "code",
      "execution_count": 17,
      "metadata": {
        "id": "zViXh4yRqm8z"
      },
      "outputs": [],
      "source": [
        "import os\n",
        "import pandas as pd\n",
        "import numpy as np\n",
        "from PIL import Image\n",
        "from sklearn.model_selection import train_test_split\n",
        "from sklearn.decomposition import PCA\n",
        "from scipy.spatial import distance\n",
        "from sklearn.metrics import accuracy_score, confusion_matrix\n",
        "import collections\n",
        "from matplotlib import pyplot as plt\n",
        "from torchvision import transforms\n"
      ]
    },
    {
      "cell_type": "markdown",
      "metadata": {
        "id": "ecwlJs0HGGtp"
      },
      "source": [
        "Separação de dados principais"
      ]
    },
    {
      "cell_type": "code",
      "execution_count": 18,
      "metadata": {
        "id": "riJ_r-guzx_J"
      },
      "outputs": [],
      "source": [
        "df = pd.read_csv('classifications.csv')"
      ]
    },
    {
      "cell_type": "code",
      "execution_count": 171,
      "metadata": {
        "colab": {
          "base_uri": "https://localhost:8080/"
        },
        "id": "HNsB6hEeKz2k",
        "outputId": "151d85e3-4de9-43c4-be14-9259ed336f65"
      },
      "outputs": [
        {
          "name": "stderr",
          "output_type": "stream",
          "text": [
            "'unzip' n�o � reconhecido como um comando interno\n",
            "ou externo, um programa oper�vel ou um arquivo em lotes.\n"
          ]
        }
      ],
      "source": [
        "# Caminho para o diretório desejado\n",
        "!unzip 'imagens_segmentadas.zip'"
      ]
    },
    {
      "cell_type": "code",
      "execution_count": 19,
      "metadata": {
        "colab": {
          "base_uri": "https://localhost:8080/"
        },
        "id": "cRbVv7TJSr-J",
        "outputId": "4ed1a906-29e0-49d2-ef2a-dd7a18d85d1e"
      },
      "outputs": [
        {
          "name": "stdout",
          "output_type": "stream",
          "text": [
            "['10.png', '11.png', '12.png', '13.png', '14.png', '15.png', '16.png', '17.png', '18.png', '19.png', '2.png', '20.png', '21.png', '22.png', '23.png', '24.png', '25.png', '26.png', '27.png', '28.png', '29.png', '3.png', '30.png', '31.png', '32.png', '33.png', '34.png', '35.png', '36.png', '37.png', '38.png', '39.png', '4.png', '40.png', '41.png', '42.png', '43.png', '44.png', '45.png', '46.png', '47.png', '5.png', '6.png', '7.png', '8.png', '9.png']\n"
          ]
        }
      ],
      "source": [
        "caminho_diretorio ='imagem_segmentada/'\n",
        "\n",
        "#Listar arquivos no diretório\n",
        "arquivos = os.listdir(caminho_diretorio)\n",
        "\n",
        "# Exibir os arquivos\n",
        "print(arquivos)"
      ]
    },
    {
      "cell_type": "code",
      "execution_count": 20,
      "metadata": {
        "id": "637F5auLHTki"
      },
      "outputs": [],
      "source": [
        "df['cell_id'] = df['cell_id'].astype(str)\n",
        "\n",
        "# Mapeando os tipos de células para as imagens\n",
        "ids_imagens = [os.path.splitext(imagem)[0] for imagem in arquivos]\n",
        "df_filtrado = df[df['cell_id'].isin(ids_imagens)]\n",
        "\n",
        "# Caminho completo para o diretório de imagens\n",
        "caminho_completo = [os.path.join(caminho_diretorio, f\"{id}.png\") for id in ids_imagens]\n",
        "\n",
        "# Carregar as imagens\n",
        "imagens = [Image.open(caminho) for caminho in caminho_completo]\n",
        "\n",
        "# Exemplo de redimensionamento e normalização\n",
        "preprocessamento = transforms.Compose([\n",
        "    transforms.Resize((64,64)),\n",
        "    transforms.ToTensor(),\n",
        "    transforms.Normalize((0.5, 0.5, 0.5), (0.5, 0.5, 0.5))\n",
        "])\n",
        "\n",
        "imagens_processadas = [preprocessamento(imagem) for imagem in imagens]\n",
        "\n",
        "# Divisão estratificada entre treino e teste\n",
        "x_treino, x_teste, y_treino, y_teste = train_test_split(\n",
        "    imagens_processadas, df_filtrado['bethesda_system'],\n",
        "    test_size=0.2, random_state=42, stratify=df_filtrado['bethesda_system']\n",
        ")\n"
      ]
    },
    {
      "cell_type": "code",
      "execution_count": 21,
      "metadata": {
        "colab": {
          "base_uri": "https://localhost:8080/",
          "height": 507
        },
        "id": "GMOipHJjc3VL",
        "outputId": "dffbfff3-001a-4776-fbb0-5c462f1bf3ee"
      },
      "outputs": [
        {
          "name": "stdout",
          "output_type": "stream",
          "text": [
            "Quantidade de imagens de treino: 36\n",
            "Quantidade de imagens de teste: 10\n"
          ]
        },
        {
          "data": {
            "image/png": "[encoded data removed]",
            "text/plain": [
              "<Figure size 640x480 with 1 Axes>"
            ]
          },
          "metadata": {},
          "output_type": "display_data"
        }
      ],
      "source": [
        "import collections\n",
        "from matplotlib import pyplot\n",
        "\n",
        "rotulos = df_filtrado['bethesda_system']\n",
        "\n",
        "# Checando quantidade de imagens do dataset\n",
        "print('Quantidade de imagens de treino:', len(x_treino))\n",
        "print('Quantidade de imagens de teste:', len(x_teste))\n",
        "\n",
        "# Contando quantidade de imagens por rótulo\n",
        "counterTreino = collections.Counter(y_treino)\n",
        "counterTeste = collections.Counter(y_teste)\n",
        "\n",
        "# Plotando quantidade de imagens de cada rótulo\n",
        "fig, ax = pyplot.subplots()\n",
        "rects1 = ax.bar(counterTreino.keys(), counterTreino.values(), label='Treino')\n",
        "rects2 = ax.bar(counterTeste.keys(), counterTeste.values(), label='Teste')\n",
        "\n",
        "ax.set_title('Imagens por rótulo')\n",
        "ax.set_ylabel('Quantidade de imagens')\n",
        "ax.set_xlabel('Rótulo')\n",
        "ax.legend()\n",
        "pyplot.show()"
      ]
    },
    {
      "cell_type": "markdown",
      "metadata": {
        "id": "YFU6bSGpzNOU"
      },
      "source": [
        "# Classificação de Mahalnobis"
      ]
    },
    {
      "cell_type": "code",
      "execution_count": 22,
      "metadata": {
        "id": "EhTbCh7v2jlg"
      },
      "outputs": [
        {
          "name": "stdout",
          "output_type": "stream",
          "text": [
            "Distância de Mahalanobis:  [363.09270687  47.95087199   7.71087389 184.50334742  59.70497553\n",
            "  62.15281094  26.50480181 108.83440928  42.8987337   31.3900867 ]\n",
            "Acurácia:  0.1\n",
            "Matriz de Confusão:\n",
            "[[1 0]\n",
            " [9 0]]\n"
          ]
        },
        {
          "data": {
            "image/png": "[encoded data removed]",
            "text/plain": [
              "<Figure size 640x480 with 2 Axes>"
            ]
          },
          "metadata": {},
          "output_type": "display_data"
        }
      ],
      "source": [
        "# Converter para numpy arrays\n",
        "x_treino_np = np.array([img.numpy().flatten() for img in x_treino])\n",
        "x_teste_np = np.array([img.numpy().flatten() for img in x_teste])\n",
        "\n",
        "# Mapeamento de classes\n",
        "class_mapping = {'Negative for intraepithelial lesion': 0}\n",
        "\n",
        "# Atribuir rótulo 1 para todas as outras classes\n",
        "for label in df_filtrado['bethesda_system'].unique():\n",
        "    if label not in class_mapping:\n",
        "        class_mapping[label] = 1\n",
        "\n",
        "# Mapeamento dos rótulos verdadeiros\n",
        "y_true_int = np.array([class_mapping[label] for label in y_teste])\n",
        "\n",
        "# Aplicar PCA para reduzir a dimensionalidade\n",
        "n_components = min(x_treino_np.shape[0], x_treino_np.shape[1])\n",
        "pca = PCA(n_components=n_components)\n",
        "x_treino_pca = pca.fit_transform(x_treino_np)\n",
        "x_teste_pca = pca.transform(x_teste_np)\n",
        "\n",
        "# Calcular a matriz de covariância e seu inverso para o conjunto de treino reduzido\n",
        "cov_matrix = np.cov(x_treino_pca, rowvar=False)\n",
        "regularization_term = 1e-5\n",
        "cov_matrix_regularized = cov_matrix + regularization_term * np.eye(cov_matrix.shape[0])\n",
        "inv_cov_matrix = np.linalg.inv(cov_matrix_regularized)\n",
        "\n",
        "# Calcular a distância Mahalanobis\n",
        "mahalanobis_dist = [distance.mahalanobis(imagem, np.mean(x_treino_pca, axis=0), inv_cov_matrix) for imagem in x_teste_pca]\n",
        "mahalanobis_dist_array = np.array(mahalanobis_dist)\n",
        "\n",
        "# Ajustar o limiar conforme necessário\n",
        "limiar = 5.0\n",
        "\n",
        "# Criar rótulos previstos com base nas distâncias\n",
        "y_pred_int = [0 if dist > limiar else 1 for dist in mahalanobis_dist_array]\n",
        "\n",
        "# Calcular a acurácia usando y_true_int e y_pred_int\n",
        "acc_binary = accuracy_score(y_true_int, y_pred_int)\n",
        "\n",
        "# Calcular a matriz de confusão\n",
        "cm_binary = confusion_matrix(y_true_int, y_pred_int)\n",
        "\n",
        "# Exibir resultados\n",
        "print(\"Distância de Mahalanobis: \", mahalanobis_dist_array)\n",
        "print(\"Acurácia: \", acc_binary)\n",
        "print(\"Matriz de Confusão:\")\n",
        "print(cm_binary)\n",
        "\n",
        "# Plotar a matriz de confusão\n",
        "plt.imshow(cm_binary, interpolation='nearest', cmap=plt.cm.Blues)\n",
        "plt.title('Matriz de Confusão - Binária')\n",
        "plt.colorbar()\n",
        "\n",
        "# Adicionar anotações\n",
        "for i in range(cm_binary.shape[0]):\n",
        "    for j in range(cm_binary.shape[1]):\n",
        "        plt.text(j, i, str(cm_binary[i, j]), ha='center', va='center', color='white')\n",
        "\n",
        "# Adicionar rótulos\n",
        "classes = np.unique(y_true_int)\n",
        "tick_marks = np.arange(len(classes))\n",
        "plt.xticks(tick_marks, classes)\n",
        "plt.yticks(tick_marks, classes)\n",
        "\n",
        "plt.xlabel('Previsto')\n",
        "plt.ylabel('Verdadeiro')\n",
        "plt.show()"
      ]
    },
    {
      "cell_type": "code",
      "execution_count": 32,
      "metadata": {},
      "outputs": [
        {
          "ename": "ValueError",
          "evalue": "Found input variables with inconsistent numbers of samples: [10, 1]",
          "output_type": "error",
          "traceback": [
            "\u001b[1;31m---------------------------------------------------------------------------\u001b[0m",
            "\u001b[1;31mValueError\u001b[0m                                Traceback (most recent call last)",
            "\u001b[1;32mc:\\Users\\Home\\Documents\\6º período\\PAI\\PAI---trabalho-1\\trabalho_pai (1).ipynb Cell 10\u001b[0m line \u001b[0;36m3\n\u001b[0;32m     <a href='vscode-notebook-cell:/c%3A/Users/Home/Documents/6%C2%BA%20per%C3%ADodo/PAI/PAI---trabalho-1/trabalho_pai%20%281%29.ipynb#X31sZmlsZQ%3D%3D?line=35'>36</a>\u001b[0m y_pred_int \u001b[39m=\u001b[39m y_pred_int\u001b[39m.\u001b[39mravel()\n\u001b[0;32m     <a href='vscode-notebook-cell:/c%3A/Users/Home/Documents/6%C2%BA%20per%C3%ADodo/PAI/PAI---trabalho-1/trabalho_pai%20%281%29.ipynb#X31sZmlsZQ%3D%3D?line=37'>38</a>\u001b[0m \u001b[39m# Calcular a acurácia usando y_true_int e y_pred_int\u001b[39;00m\n\u001b[1;32m---> <a href='vscode-notebook-cell:/c%3A/Users/Home/Documents/6%C2%BA%20per%C3%ADodo/PAI/PAI---trabalho-1/trabalho_pai%20%281%29.ipynb#X31sZmlsZQ%3D%3D?line=38'>39</a>\u001b[0m acc_multiclass \u001b[39m=\u001b[39m accuracy_score(y_true_int, y_pred_int)\n\u001b[0;32m     <a href='vscode-notebook-cell:/c%3A/Users/Home/Documents/6%C2%BA%20per%C3%ADodo/PAI/PAI---trabalho-1/trabalho_pai%20%281%29.ipynb#X31sZmlsZQ%3D%3D?line=40'>41</a>\u001b[0m \u001b[39m# Calcular a matriz de confusão\u001b[39;00m\n\u001b[0;32m     <a href='vscode-notebook-cell:/c%3A/Users/Home/Documents/6%C2%BA%20per%C3%ADodo/PAI/PAI---trabalho-1/trabalho_pai%20%281%29.ipynb#X31sZmlsZQ%3D%3D?line=41'>42</a>\u001b[0m cm_multiclass \u001b[39m=\u001b[39m confusion_matrix(y_true_int, y_pred_int)\n",
            "File \u001b[1;32m~\\AppData\\Local\\Packages\\PythonSoftwareFoundation.Python.3.10_qbz5n2kfra8p0\\LocalCache\\local-packages\\Python310\\site-packages\\sklearn\\utils\\_param_validation.py:214\u001b[0m, in \u001b[0;36mvalidate_params.<locals>.decorator.<locals>.wrapper\u001b[1;34m(*args, **kwargs)\u001b[0m\n\u001b[0;32m    208\u001b[0m \u001b[39mtry\u001b[39;00m:\n\u001b[0;32m    209\u001b[0m     \u001b[39mwith\u001b[39;00m config_context(\n\u001b[0;32m    210\u001b[0m         skip_parameter_validation\u001b[39m=\u001b[39m(\n\u001b[0;32m    211\u001b[0m             prefer_skip_nested_validation \u001b[39mor\u001b[39;00m global_skip_validation\n\u001b[0;32m    212\u001b[0m         )\n\u001b[0;32m    213\u001b[0m     ):\n\u001b[1;32m--> 214\u001b[0m         \u001b[39mreturn\u001b[39;00m func(\u001b[39m*\u001b[39margs, \u001b[39m*\u001b[39m\u001b[39m*\u001b[39mkwargs)\n\u001b[0;32m    215\u001b[0m \u001b[39mexcept\u001b[39;00m InvalidParameterError \u001b[39mas\u001b[39;00m e:\n\u001b[0;32m    216\u001b[0m     \u001b[39m# When the function is just a wrapper around an estimator, we allow\u001b[39;00m\n\u001b[0;32m    217\u001b[0m     \u001b[39m# the function to delegate validation to the estimator, but we replace\u001b[39;00m\n\u001b[0;32m    218\u001b[0m     \u001b[39m# the name of the estimator by the name of the function in the error\u001b[39;00m\n\u001b[0;32m    219\u001b[0m     \u001b[39m# message to avoid confusion.\u001b[39;00m\n\u001b[0;32m    220\u001b[0m     msg \u001b[39m=\u001b[39m re\u001b[39m.\u001b[39msub(\n\u001b[0;32m    221\u001b[0m         \u001b[39mr\u001b[39m\u001b[39m\"\u001b[39m\u001b[39mparameter of \u001b[39m\u001b[39m\\\u001b[39m\u001b[39mw+ must be\u001b[39m\u001b[39m\"\u001b[39m,\n\u001b[0;32m    222\u001b[0m         \u001b[39mf\u001b[39m\u001b[39m\"\u001b[39m\u001b[39mparameter of \u001b[39m\u001b[39m{\u001b[39;00mfunc\u001b[39m.\u001b[39m\u001b[39m__qualname__\u001b[39m\u001b[39m}\u001b[39;00m\u001b[39m must be\u001b[39m\u001b[39m\"\u001b[39m,\n\u001b[0;32m    223\u001b[0m         \u001b[39mstr\u001b[39m(e),\n\u001b[0;32m    224\u001b[0m     )\n",
            "File \u001b[1;32m~\\AppData\\Local\\Packages\\PythonSoftwareFoundation.Python.3.10_qbz5n2kfra8p0\\LocalCache\\local-packages\\Python310\\site-packages\\sklearn\\metrics\\_classification.py:220\u001b[0m, in \u001b[0;36maccuracy_score\u001b[1;34m(y_true, y_pred, normalize, sample_weight)\u001b[0m\n\u001b[0;32m    154\u001b[0m \u001b[39m\u001b[39m\u001b[39m\"\"\"Accuracy classification score.\u001b[39;00m\n\u001b[0;32m    155\u001b[0m \n\u001b[0;32m    156\u001b[0m \u001b[39mIn multilabel classification, this function computes subset accuracy:\u001b[39;00m\n\u001b[1;32m   (...)\u001b[0m\n\u001b[0;32m    216\u001b[0m \u001b[39m0.5\u001b[39;00m\n\u001b[0;32m    217\u001b[0m \u001b[39m\"\"\"\u001b[39;00m\n\u001b[0;32m    219\u001b[0m \u001b[39m# Compute accuracy for each possible representation\u001b[39;00m\n\u001b[1;32m--> 220\u001b[0m y_type, y_true, y_pred \u001b[39m=\u001b[39m _check_targets(y_true, y_pred)\n\u001b[0;32m    221\u001b[0m check_consistent_length(y_true, y_pred, sample_weight)\n\u001b[0;32m    222\u001b[0m \u001b[39mif\u001b[39;00m y_type\u001b[39m.\u001b[39mstartswith(\u001b[39m\"\u001b[39m\u001b[39mmultilabel\u001b[39m\u001b[39m\"\u001b[39m):\n",
            "File \u001b[1;32m~\\AppData\\Local\\Packages\\PythonSoftwareFoundation.Python.3.10_qbz5n2kfra8p0\\LocalCache\\local-packages\\Python310\\site-packages\\sklearn\\metrics\\_classification.py:84\u001b[0m, in \u001b[0;36m_check_targets\u001b[1;34m(y_true, y_pred)\u001b[0m\n\u001b[0;32m     57\u001b[0m \u001b[39mdef\u001b[39;00m \u001b[39m_check_targets\u001b[39m(y_true, y_pred):\n\u001b[0;32m     58\u001b[0m \u001b[39m    \u001b[39m\u001b[39m\"\"\"Check that y_true and y_pred belong to the same classification task.\u001b[39;00m\n\u001b[0;32m     59\u001b[0m \n\u001b[0;32m     60\u001b[0m \u001b[39m    This converts multiclass or binary types to a common shape, and raises a\u001b[39;00m\n\u001b[1;32m   (...)\u001b[0m\n\u001b[0;32m     82\u001b[0m \u001b[39m    y_pred : array or indicator matrix\u001b[39;00m\n\u001b[0;32m     83\u001b[0m \u001b[39m    \"\"\"\u001b[39;00m\n\u001b[1;32m---> 84\u001b[0m     check_consistent_length(y_true, y_pred)\n\u001b[0;32m     85\u001b[0m     type_true \u001b[39m=\u001b[39m type_of_target(y_true, input_name\u001b[39m=\u001b[39m\u001b[39m\"\u001b[39m\u001b[39my_true\u001b[39m\u001b[39m\"\u001b[39m)\n\u001b[0;32m     86\u001b[0m     type_pred \u001b[39m=\u001b[39m type_of_target(y_pred, input_name\u001b[39m=\u001b[39m\u001b[39m\"\u001b[39m\u001b[39my_pred\u001b[39m\u001b[39m\"\u001b[39m)\n",
            "File \u001b[1;32m~\\AppData\\Local\\Packages\\PythonSoftwareFoundation.Python.3.10_qbz5n2kfra8p0\\LocalCache\\local-packages\\Python310\\site-packages\\sklearn\\utils\\validation.py:407\u001b[0m, in \u001b[0;36mcheck_consistent_length\u001b[1;34m(*arrays)\u001b[0m\n\u001b[0;32m    405\u001b[0m uniques \u001b[39m=\u001b[39m np\u001b[39m.\u001b[39munique(lengths)\n\u001b[0;32m    406\u001b[0m \u001b[39mif\u001b[39;00m \u001b[39mlen\u001b[39m(uniques) \u001b[39m>\u001b[39m \u001b[39m1\u001b[39m:\n\u001b[1;32m--> 407\u001b[0m     \u001b[39mraise\u001b[39;00m \u001b[39mValueError\u001b[39;00m(\n\u001b[0;32m    408\u001b[0m         \u001b[39m\"\u001b[39m\u001b[39mFound input variables with inconsistent numbers of samples: \u001b[39m\u001b[39m%r\u001b[39;00m\u001b[39m\"\u001b[39m\n\u001b[0;32m    409\u001b[0m         \u001b[39m%\u001b[39m [\u001b[39mint\u001b[39m(l) \u001b[39mfor\u001b[39;00m l \u001b[39min\u001b[39;00m lengths]\n\u001b[0;32m    410\u001b[0m     )\n",
            "\u001b[1;31mValueError\u001b[0m: Found input variables with inconsistent numbers of samples: [10, 1]"
          ]
        }
      ],
      "source": [
        "x_treino_np = np.array([img.numpy().flatten() for img in x_treino])\n",
        "x_teste_np = np.array([img.numpy().flatten() for img in x_teste])\n",
        "\n",
        "# Mapeamento de classes\n",
        "class_mapping = {label: i for i, label in enumerate(df_filtrado['bethesda_system'].unique())}\n",
        "\n",
        "# Mapeamento dos rótulos verdadeiros\n",
        "y_true_int = np.array([class_mapping[label] for label in y_teste])\n",
        "\n",
        "# Aplicar PCA para reduzir a dimensionalidade\n",
        "n_components = min(x_treino_np.shape[0], x_treino_np.shape[1])\n",
        "pca = PCA(n_components=n_components)\n",
        "x_treino_pca = pca.fit_transform(x_treino_np)\n",
        "x_teste_pca = pca.transform(x_teste_np)\n",
        "\n",
        "# Calcular a matriz de covariância e seu inverso para o conjunto de treino reduzido\n",
        "cov_matrix = np.cov(x_treino_pca, rowvar=False)\n",
        "regularization_term = 1e-5\n",
        "cov_matrix_regularized = cov_matrix + regularization_term * np.eye(cov_matrix.shape[0])\n",
        "inv_cov_matrix = np.linalg.inv(cov_matrix_regularized)\n",
        "\n",
        "# Calcular a distância Mahalanobis\n",
        "mahalanobis_dist = [distance.mahalanobis(imagem, np.mean(x_treino_pca, axis=0), inv_cov_matrix) for imagem in x_teste_pca]\n",
        "mahalanobis_dist_array = np.array(mahalanobis_dist)\n",
        "\n",
        "# Ajustar o limiar conforme necessário\n",
        "limiar = 5.0\n",
        "\n",
        "# Criar rótulos previstos com base nas distâncias\n",
        "y_pred_int = np.argmin(mahalanobis_dist_array, axis=0)\n",
        "\n",
        "# Ajustar a forma de y_true_int\n",
        "y_true_int = y_true_int.ravel()\n",
        "\n",
        "# Ajustar a forma de y_pred_int\n",
        "y_pred_int = y_pred_int.ravel()\n",
        "\n",
        "# Garantir que y_true_int e y_pred_int tenham o mesmo número de amostras\n",
        "min_samples = min(len(y_true_int), len(y_pred_int))\n",
        "y_true_int = y_true_int[:min_samples]\n",
        "y_pred_int = y_pred_int[:min_samples]\n",
        "\n",
        "# Calcular a acurácia usando y_true_int e y_pred_int\n",
        "acc_multiclass = accuracy_score(y_true_int, y_pred_int)\n",
        "\n",
        "# Calcular a matriz de confusão\n",
        "cm_multiclass = confusion_matrix(y_true_int, y_pred_int)\n",
        "\n",
        "# Exibir resultados\n",
        "print(\"Distâncias de Mahalanobis: \", mahalanobis_dist_array)\n",
        "print(\"Acurácia: \", acc_multiclass)\n",
        "print(\"Matriz de Confusão:\")\n",
        "print(cm_multiclass)\n",
        "\n",
        "# Plotar a matriz de confusão\n",
        "plt.imshow(cm_multiclass, interpolation='nearest', cmap=plt.cm.Blues)\n",
        "plt.title('Matriz de Confusão - Multiclasse')\n",
        "plt.colorbar()\n",
        "\n",
        "# Adicionar anotações\n",
        "for i in range(cm_multiclass.shape[0]):\n",
        "    for j in range(cm_multiclass.shape[1]):\n",
        "        plt.text(j, i, str(cm_multiclass[i, j]), ha='center', va='center', color='white')\n",
        "\n",
        "# Adicionar rótulos\n",
        "classes = np.unique(y_true_int)\n",
        "tick_marks = np.arange(len(classes))\n",
        "plt.xticks(tick_marks, classes)\n",
        "plt.yticks(tick_marks, classes)\n",
        "\n",
        "plt.xlabel('Previsto')\n",
        "plt.ylabel('Verdadeiro')\n",
        "plt.show()"
      ]
    },
    {
      "cell_type": "markdown",
      "metadata": {
        "id": "OG-mKtc88eCR"
      },
      "source": [
        "Preparando o dataset para aprendizado de máquina"
      ]
    },
    {
      "cell_type": "code",
      "execution_count": null,
      "metadata": {
        "colab": {
          "base_uri": "https://localhost:8080/",
          "height": 245
        },
        "id": "rmJyLXTqdC2s",
        "outputId": "770e64d3-716f-44d6-9a4b-92d6f9a0eece"
      },
      "outputs": [
        {
          "ename": "RuntimeError",
          "evalue": "ignored",
          "output_type": "error",
          "traceback": [
            "\u001b[0;31m---------------------------------------------------------------------------\u001b[0m",
            "\u001b[0;31mRuntimeError\u001b[0m                              Traceback (most recent call last)",
            "\u001b[0;32m<ipython-input-118-7be50bf1f39a>\u001b[0m in \u001b[0;36m<cell line: 2>\u001b[0;34m()\u001b[0m\n\u001b[1;32m      1\u001b[0m \u001b[0;31m# formatar o dataset para funcionar como entrada do keras\u001b[0m\u001b[0;34m\u001b[0m\u001b[0;34m\u001b[0m\u001b[0m\n\u001b[0;32m----> 2\u001b[0;31m \u001b[0mx_treino\u001b[0m \u001b[0;34m=\u001b[0m \u001b[0mx_treino\u001b[0m\u001b[0;34m.\u001b[0m\u001b[0mreshape\u001b[0m\u001b[0;34m(\u001b[0m\u001b[0mx_treino\u001b[0m\u001b[0;34m.\u001b[0m\u001b[0mshape\u001b[0m\u001b[0;34m[\u001b[0m\u001b[0;36m0\u001b[0m\u001b[0;34m]\u001b[0m\u001b[0;34m,\u001b[0m \u001b[0;36m28\u001b[0m\u001b[0;34m,\u001b[0m \u001b[0;36m28\u001b[0m\u001b[0;34m,\u001b[0m \u001b[0;36m1\u001b[0m\u001b[0;34m)\u001b[0m\u001b[0;34m\u001b[0m\u001b[0;34m\u001b[0m\u001b[0m\n\u001b[0m\u001b[1;32m      3\u001b[0m \u001b[0mx_teste\u001b[0m \u001b[0;34m=\u001b[0m \u001b[0mx_teste\u001b[0m\u001b[0;34m.\u001b[0m\u001b[0mreshape\u001b[0m\u001b[0;34m(\u001b[0m\u001b[0mx_teste\u001b[0m\u001b[0;34m.\u001b[0m\u001b[0mshape\u001b[0m\u001b[0;34m[\u001b[0m\u001b[0;36m0\u001b[0m\u001b[0;34m]\u001b[0m\u001b[0;34m,\u001b[0m \u001b[0;36m28\u001b[0m\u001b[0;34m,\u001b[0m \u001b[0;36m28\u001b[0m\u001b[0;34m,\u001b[0m \u001b[0;36m1\u001b[0m\u001b[0;34m)\u001b[0m\u001b[0;34m\u001b[0m\u001b[0;34m\u001b[0m\u001b[0m\n\u001b[1;32m      4\u001b[0m \u001b[0;34m\u001b[0m\u001b[0m\n\u001b[1;32m      5\u001b[0m \u001b[0;34m\u001b[0m\u001b[0m\n",
            "\u001b[0;31mRuntimeError\u001b[0m: shape '[20, 28, 28, 1]' is invalid for input of size 3010560"
          ]
        }
      ],
      "source": [
        "# formatar o dataset para funcionar como entrada do keras\n",
        "x_treino = x_treino.reshape(x_treino.shape[0], 28, 28, 1)\n",
        "x_teste = x_teste.reshape(x_teste.shape[0], 28, 28, 1)\n",
        "\n",
        "\n",
        "# # Convertendo as listas de imagens processadas para tensores\n",
        "# x_treino = torch.stack(x_treino)\n",
        "# x_teste = torch.stack(x_teste)\n",
        "\n",
        "# # Adapte o formato para 4 dimensões (batch_size, canais, altura, largura)\n",
        "# x_treino = x_treino.permute(0, 3, 1, 2)\n",
        "# x_teste = x_teste.permute(0, 3, 1, 2)\n",
        "\n",
        "# # Convertendo para float32\n",
        "# x_treino = x_treino.float()\n",
        "# x_teste = x_teste.float()\n",
        "\n",
        "# # Normalizando os valores dos pixels\n",
        "# x_treino /= 255.0\n",
        "# x_teste /= 255.0\n",
        "\n",
        "# # Visualizando as dimensões dos dados\n",
        "# print(\"Dimensões dos dados de treino:\", x_treino.shape)\n",
        "# print(\"Dimensões dos dados de teste:\", x_teste.shape)\n"
      ]
    },
    {
      "cell_type": "code",
      "execution_count": null,
      "metadata": {
        "colab": {
          "base_uri": "https://localhost:8080/"
        },
        "id": "9YsToZlde7Ex",
        "outputId": "b736b117-9550-468d-d74f-132df9d31276"
      },
      "outputs": [
        {
          "name": "stdout",
          "output_type": "stream",
          "text": [
            "CNNModel(\n",
            "  (conv1): Conv2d(3, 28, kernel_size=(3, 3), stride=(1, 1), padding=(1, 1))\n",
            "  (pool): MaxPool2d(kernel_size=(2, 2), stride=(2, 2), padding=0, dilation=1, ceil_mode=False)\n",
            "  (conv2): Conv2d(28, 28, kernel_size=(3, 3), stride=(1, 1), padding=(1, 1))\n",
            "  (flatten): Flatten(start_dim=1, end_dim=-1)\n",
            "  (fc1): Linear(in_features=351232, out_features=128, bias=True)\n",
            "  (relu): ReLU()\n",
            "  (dropout): Dropout(p=0.5, inplace=False)\n",
            "  (fc2): Linear(in_features=128, out_features=10, bias=True)\n",
            "  (softmax): Softmax(dim=1)\n",
            ")\n"
          ]
        }
      ],
      "source": [
        "import torch.nn as nn\n",
        "import torch.optim as optim\n",
        "\n",
        "# Definindo a arquitetura da rede neural\n",
        "class CNNModel(nn.Module):\n",
        "    def __init__(self):\n",
        "        super(CNNModel, self).__init__()\n",
        "        self.conv1 = nn.Conv2d(3, 28, kernel_size=(3, 3), stride=(1, 1), padding=(1, 1))\n",
        "        self.pool = nn.MaxPool2d(kernel_size=(2, 2), stride=(2, 2))\n",
        "        self.conv2 = nn.Conv2d(28, 28, kernel_size=(3, 3), stride=(1, 1), padding=(1, 1))\n",
        "        self.flatten = nn.Flatten()\n",
        "        self.fc1 = nn.Linear(28 * 112 * 112, 128)\n",
        "        self.relu = nn.ReLU()\n",
        "        self.dropout = nn.Dropout(0.5)\n",
        "        self.fc2 = nn.Linear(128, 10)\n",
        "        self.softmax = nn.Softmax(dim=1)\n",
        "\n",
        "    def forward(self, x):\n",
        "        x = self.relu(self.conv1(x))\n",
        "        x = self.pool(x)\n",
        "        x = self.relu(self.conv2(x))\n",
        "        x = self.pool(x)\n",
        "        x = self.flatten(x)\n",
        "        x = self.relu(self.fc1(x))\n",
        "        x = self.dropout(x)\n",
        "        x = self.fc2(x)\n",
        "        x = self.softmax(x)\n",
        "        return x\n",
        "\n",
        "# Inicializando o modelo\n",
        "model = CNNModel()\n",
        "\n",
        "# Imprimindo o resumo do modelo\n",
        "print(model)"
      ]
    },
    {
      "cell_type": "code",
      "execution_count": null,
      "metadata": {
        "colab": {
          "base_uri": "https://localhost:8080/"
        },
        "id": "hzOUUjmFe9Ex",
        "outputId": "ee3022c3-d67b-4a46-eb20-d5e7cae40763"
      },
      "outputs": [
        {
          "name": "stderr",
          "output_type": "stream",
          "text": [
            "WARNING:absl:`lr` is deprecated in Keras optimizer, please use `learning_rate` or use the legacy optimizer, e.g.,tf.keras.optimizers.legacy.Adam.\n"
          ]
        },
        {
          "name": "stdout",
          "output_type": "stream",
          "text": [
            "Model: \"sequential_2\"\n",
            "_________________________________________________________________\n",
            " Layer (type)                Output Shape              Param #   \n",
            "=================================================================\n",
            " conv2d_4 (Conv2D)           (None, 224, 224, 28)      784       \n",
            "                                                                 \n",
            " max_pooling2d_4 (MaxPoolin  (None, 112, 112, 28)      0         \n",
            " g2D)                                                            \n",
            "                                                                 \n",
            " conv2d_5 (Conv2D)           (None, 112, 112, 28)      7084      \n",
            "                                                                 \n",
            " max_pooling2d_5 (MaxPoolin  (None, 56, 56, 28)        0         \n",
            " g2D)                                                            \n",
            "                                                                 \n",
            " flatten_2 (Flatten)         (None, 87808)             0         \n",
            "                                                                 \n",
            " dense_4 (Dense)             (None, 128)               11239552  \n",
            "                                                                 \n",
            " dropout_2 (Dropout)         (None, 128)               0         \n",
            "                                                                 \n",
            " dense_5 (Dense)             (None, 10)                1290      \n",
            "                                                                 \n",
            "=================================================================\n",
            "Total params: 11248710 (42.91 MB)\n",
            "Trainable params: 11248710 (42.91 MB)\n",
            "Non-trainable params: 0 (0.00 Byte)\n",
            "_________________________________________________________________\n"
          ]
        }
      ],
      "source": [
        "from keras.models import Sequential\n",
        "from keras.layers import Conv2D, MaxPooling2D, Flatten, Dense, Dropout\n",
        "from keras.optimizers import Adam\n",
        "\n",
        "# Definindo a arquitetura da rede neural\n",
        "model = Sequential()\n",
        "model.add(Conv2D(28, (3, 3), activation='relu', input_shape=(224, 224, 3), padding='same'))\n",
        "model.add(MaxPooling2D((2, 2)))\n",
        "model.add(Conv2D(28, (3, 3), activation='relu', padding='same'))\n",
        "model.add(MaxPooling2D((2, 2)))\n",
        "model.add(Flatten())\n",
        "model.add(Dense(128, activation='relu'))\n",
        "model.add(Dropout(0.5))\n",
        "model.add(Dense(10, activation='softmax'))\n",
        "\n",
        "# Inicializando o modelo\n",
        "adam_optimizer = Adam(lr=0.001)\n",
        "model.compile(optimizer=adam_optimizer, loss='sparse_categorical_crossentropy', metrics=['accuracy'])\n",
        "\n",
        "# Visualizando o resumo do modelo\n",
        "model.summary()"
      ]
    },
    {
      "cell_type": "code",
      "execution_count": null,
      "metadata": {
        "colab": {
          "base_uri": "https://localhost:8080/",
          "height": 410
        },
        "id": "khfFF5enuRte",
        "outputId": "c28c0a32-e221-4e35-c752-833e789b52ac"
      },
      "outputs": [
        {
          "name": "stderr",
          "output_type": "stream",
          "text": [
            "WARNING:tensorflow:Keras is training/fitting/evaluating on array-like data. Keras may not be optimized for this format, so if your input data format is supported by TensorFlow I/O (https://github.com/tensorflow/io) we recommend using that to load a Dataset instead.\n"
          ]
        },
        {
          "ename": "TypeError",
          "evalue": "ignored",
          "output_type": "error",
          "traceback": [
            "\u001b[0;31m---------------------------------------------------------------------------\u001b[0m",
            "\u001b[0;31mTypeError\u001b[0m                                 Traceback (most recent call last)",
            "\u001b[0;32m<ipython-input-117-7f03626a95fe>\u001b[0m in \u001b[0;36m<cell line: 7>\u001b[0;34m()\u001b[0m\n\u001b[1;32m      5\u001b[0m \u001b[0;34m\u001b[0m\u001b[0m\n\u001b[1;32m      6\u001b[0m \u001b[0;31m# Efetuando o treinamento de 10 épocas com o dataset de treino e validando no dataset de validação\u001b[0m\u001b[0;34m\u001b[0m\u001b[0;34m\u001b[0m\u001b[0m\n\u001b[0;32m----> 7\u001b[0;31m \u001b[0mmodel\u001b[0m\u001b[0;34m.\u001b[0m\u001b[0mfit\u001b[0m\u001b[0;34m(\u001b[0m\u001b[0mx\u001b[0m\u001b[0;34m=\u001b[0m\u001b[0mx_treino\u001b[0m\u001b[0;34m,\u001b[0m \u001b[0my\u001b[0m\u001b[0;34m=\u001b[0m\u001b[0my_treino_tensor\u001b[0m\u001b[0;34m,\u001b[0m \u001b[0mvalidation_data\u001b[0m\u001b[0;34m=\u001b[0m\u001b[0;34m(\u001b[0m\u001b[0mx_teste\u001b[0m\u001b[0;34m,\u001b[0m \u001b[0my_teste_tensor\u001b[0m\u001b[0;34m)\u001b[0m\u001b[0;34m,\u001b[0m \u001b[0mepochs\u001b[0m\u001b[0;34m=\u001b[0m\u001b[0;36m10\u001b[0m\u001b[0;34m,\u001b[0m \u001b[0mbatch_size\u001b[0m\u001b[0;34m=\u001b[0m\u001b[0;36m16\u001b[0m\u001b[0;34m,\u001b[0m \u001b[0mshuffle\u001b[0m\u001b[0;34m=\u001b[0m\u001b[0;32mFalse\u001b[0m\u001b[0;34m,\u001b[0m \u001b[0mcallbacks\u001b[0m\u001b[0;34m=\u001b[0m\u001b[0;34m[\u001b[0m\u001b[0mhistory\u001b[0m\u001b[0;34m]\u001b[0m\u001b[0;34m)\u001b[0m\u001b[0;34m\u001b[0m\u001b[0;34m\u001b[0m\u001b[0m\n\u001b[0m\u001b[1;32m      8\u001b[0m \u001b[0;34m\u001b[0m\u001b[0m\n\u001b[1;32m      9\u001b[0m \u001b[0;31m# Plotando o histórico de treino\u001b[0m\u001b[0;34m\u001b[0m\u001b[0;34m\u001b[0m\u001b[0m\n",
            "\u001b[0;32m/usr/local/lib/python3.10/dist-packages/keras/src/utils/traceback_utils.py\u001b[0m in \u001b[0;36merror_handler\u001b[0;34m(*args, **kwargs)\u001b[0m\n\u001b[1;32m     68\u001b[0m             \u001b[0;31m# To get the full stack trace, call:\u001b[0m\u001b[0;34m\u001b[0m\u001b[0;34m\u001b[0m\u001b[0m\n\u001b[1;32m     69\u001b[0m             \u001b[0;31m# `tf.debugging.disable_traceback_filtering()`\u001b[0m\u001b[0;34m\u001b[0m\u001b[0;34m\u001b[0m\u001b[0m\n\u001b[0;32m---> 70\u001b[0;31m             \u001b[0;32mraise\u001b[0m \u001b[0me\u001b[0m\u001b[0;34m.\u001b[0m\u001b[0mwith_traceback\u001b[0m\u001b[0;34m(\u001b[0m\u001b[0mfiltered_tb\u001b[0m\u001b[0;34m)\u001b[0m \u001b[0;32mfrom\u001b[0m \u001b[0;32mNone\u001b[0m\u001b[0;34m\u001b[0m\u001b[0;34m\u001b[0m\u001b[0m\n\u001b[0m\u001b[1;32m     71\u001b[0m         \u001b[0;32mfinally\u001b[0m\u001b[0;34m:\u001b[0m\u001b[0;34m\u001b[0m\u001b[0;34m\u001b[0m\u001b[0m\n\u001b[1;32m     72\u001b[0m             \u001b[0;32mdel\u001b[0m \u001b[0mfiltered_tb\u001b[0m\u001b[0;34m\u001b[0m\u001b[0;34m\u001b[0m\u001b[0m\n",
            "\u001b[0;32m/usr/local/lib/python3.10/dist-packages/tensorflow/python/framework/dtypes.py\u001b[0m in \u001b[0;36mas_dtype\u001b[0;34m(type_value)\u001b[0m\n\u001b[1;32m    856\u001b[0m     \u001b[0;32mreturn\u001b[0m \u001b[0m_INTERN_TABLE\u001b[0m\u001b[0;34m[\u001b[0m\u001b[0mtype_value\u001b[0m\u001b[0;34m.\u001b[0m\u001b[0mas_datatype_enum\u001b[0m\u001b[0;34m]\u001b[0m\u001b[0;34m\u001b[0m\u001b[0;34m\u001b[0m\u001b[0m\n\u001b[1;32m    857\u001b[0m \u001b[0;34m\u001b[0m\u001b[0m\n\u001b[0;32m--> 858\u001b[0;31m   raise TypeError(f\"Cannot convert the argument `type_value`: {type_value!r} \"\n\u001b[0m\u001b[1;32m    859\u001b[0m                   \"to a TensorFlow DType.\")\n",
            "\u001b[0;31mTypeError\u001b[0m: Cannot convert the argument `type_value`: torch.float32 to a TensorFlow DType."
          ]
        }
      ],
      "source": [
        "# Definindo otimizador, função de perda e métrica de eficiência.\n",
        "from keras.optimizers import Adam\n",
        "adamOptimizer = Adam(lr=0.001)\n",
        "\n",
        "model.compile( optimizer=adamOptimizer, loss='sparse_categorical_crossentropy', metrics=['accuracy'] )\n",
        "\n",
        "\n",
        "# Efetuando o treinamento de 10 épocas com o dataset de treino e validando no dataset de validação\n",
        "history = model.fit( x=x_train, y=y_train, validation_data=(x_val,y_val), epochs=10, batch_size=16, shuffle=False )\n",
        "\n",
        "\n",
        "# Plotando o histórico de treino\n",
        "\n",
        "# Histórico de acurácia\n",
        "pyplot.plot(history.history['acc'])\n",
        "pyplot.plot(history.history['val_acc'])\n",
        "pyplot.title('Acurácia do modelo no treino e validação')\n",
        "pyplot.ylabel('Acurácia')\n",
        "pyplot.xlabel('Época')\n",
        "pyplot.legend(['Treino', 'Validação'], loc='upper left')\n",
        "pyplot.show()\n",
        "\n",
        "# Histórico da função de perda\n",
        "pyplot.plot(history.history['loss'])\n",
        "pyplot.plot(history.history['val_loss'])\n",
        "pyplot.title('Perda do modelo no treino e validação')\n",
        "pyplot.ylabel('Perda')\n",
        "pyplot.xlabel('Época')\n",
        "pyplot.legend(['Treino', 'Validação'], loc='upper left')\n",
        "pyplot.show()"
      ]
    }
  ],
  "metadata": {
    "colab": {
      "collapsed_sections": [
        "YFU6bSGpzNOU"
      ],
      "provenance": []
    },
    "kernelspec": {
      "display_name": "Python 3",
      "name": "python3"
    },
    "language_info": {
      "codemirror_mode": {
        "name": "ipython",
        "version": 3
      },
      "file_extension": ".py",
      "mimetype": "text/x-python",
      "name": "python",
      "nbconvert_exporter": "python",
      "pygments_lexer": "ipython3",
      "version": "3.10.11"
    }
  },
  "nbformat": 4,
  "nbformat_minor": 0
}
