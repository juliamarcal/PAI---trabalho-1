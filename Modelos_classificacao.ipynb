{
  "cells": [
    {
      "cell_type": "code",
      "execution_count": 35,
      "metadata": {
        "id": "zViXh4yRqm8z"
      },
      "outputs": [],
      "source": [
        "import os\n",
        "import pandas as pd\n",
        "import numpy as np\n",
        "from PIL import Image\n",
        "from sklearn.model_selection import train_test_split\n",
        "from sklearn.decomposition import PCA\n",
        "from scipy.spatial import distance\n",
        "from sklearn.metrics import accuracy_score, confusion_matrix\n",
        "import collections\n",
        "from matplotlib import pyplot as plt\n",
        "from torchvision import transforms\n",
        "import torch\n",
        "import torchvision\n",
        "import torch.nn as nn\n",
        "import torch.optim as optim\n",
        "import torch.nn.functional as F\n",
        "from torch.utils.data import Dataset, DataLoader"
      ]
    },
    {
      "cell_type": "markdown",
      "metadata": {
        "id": "ecwlJs0HGGtp"
      },
      "source": [
        "Separação de dados principais"
      ]
    },
    {
      "cell_type": "code",
      "execution_count": 18,
      "metadata": {
        "id": "riJ_r-guzx_J"
      },
      "outputs": [],
      "source": [
        "df = pd.read_csv('classifications.csv')"
      ]
    },
    {
      "cell_type": "code",
      "execution_count": 171,
      "metadata": {
        "colab": {
          "base_uri": "https://localhost:8080/"
        },
        "id": "HNsB6hEeKz2k",
        "outputId": "151d85e3-4de9-43c4-be14-9259ed336f65"
      },
      "outputs": [
        {
          "name": "stderr",
          "output_type": "stream",
          "text": [
            "'unzip' n�o � reconhecido como um comando interno\n",
            "ou externo, um programa oper�vel ou um arquivo em lotes.\n"
          ]
        }
      ],
      "source": [
        "# Caminho para o diretório desejado\n",
        "!unzip 'imagens_segmentadas.zip'"
      ]
    },
    {
      "cell_type": "code",
      "execution_count": 19,
      "metadata": {
        "colab": {
          "base_uri": "https://localhost:8080/"
        },
        "id": "cRbVv7TJSr-J",
        "outputId": "4ed1a906-29e0-49d2-ef2a-dd7a18d85d1e"
      },
      "outputs": [
        {
          "name": "stdout",
          "output_type": "stream",
          "text": [
            "['10.png', '11.png', '12.png', '13.png', '14.png', '15.png', '16.png', '17.png', '18.png', '19.png', '2.png', '20.png', '21.png', '22.png', '23.png', '24.png', '25.png', '26.png', '27.png', '28.png', '29.png', '3.png', '30.png', '31.png', '32.png', '33.png', '34.png', '35.png', '36.png', '37.png', '38.png', '39.png', '4.png', '40.png', '41.png', '42.png', '43.png', '44.png', '45.png', '46.png', '47.png', '5.png', '6.png', '7.png', '8.png', '9.png']\n"
          ]
        }
      ],
      "source": [
        "caminho_diretorio ='imagem_segmentada/'\n",
        "\n",
        "#Listar arquivos no diretório\n",
        "arquivos = os.listdir(caminho_diretorio)\n",
        "\n",
        "# Exibir os arquivos\n",
        "print(arquivos)"
      ]
    },
    {
      "cell_type": "code",
      "execution_count": 20,
      "metadata": {
        "id": "637F5auLHTki"
      },
      "outputs": [],
      "source": [
        "df['cell_id'] = df['cell_id'].astype(str)\n",
        "\n",
        "# Mapeando os tipos de células para as imagens\n",
        "ids_imagens = [os.path.splitext(imagem)[0] for imagem in arquivos]\n",
        "df_filtrado = df[df['cell_id'].isin(ids_imagens)]\n",
        "\n",
        "# Caminho completo para o diretório de imagens\n",
        "caminho_completo = [os.path.join(caminho_diretorio, f\"{id}.png\") for id in ids_imagens]\n",
        "\n",
        "# Carregar as imagens\n",
        "imagens = [Image.open(caminho) for caminho in caminho_completo]\n",
        "\n",
        "# Exemplo de redimensionamento e normalização\n",
        "preprocessamento = transforms.Compose([\n",
        "    transforms.Resize((64,64)),\n",
        "    transforms.ToTensor(),\n",
        "    transforms.Normalize((0.5, 0.5, 0.5), (0.5, 0.5, 0.5))\n",
        "])\n",
        "\n",
        "imagens_processadas = [preprocessamento(imagem) for imagem in imagens]\n",
        "\n",
        "# Divisão estratificada entre treino e teste\n",
        "x_treino, x_teste, y_treino, y_teste = train_test_split(\n",
        "    imagens_processadas, df_filtrado['bethesda_system'],\n",
        "    test_size=0.2, random_state=42, stratify=df_filtrado['bethesda_system']\n",
        ")\n"
      ]
    },
    {
      "cell_type": "code",
      "execution_count": 21,
      "metadata": {
        "colab": {
          "base_uri": "https://localhost:8080/",
          "height": 507
        },
        "id": "GMOipHJjc3VL",
        "outputId": "dffbfff3-001a-4776-fbb0-5c462f1bf3ee"
      },
      "outputs": [
        {
          "name": "stdout",
          "output_type": "stream",
          "text": [
            "Quantidade de imagens de treino: 36\n",
            "Quantidade de imagens de teste: 10\n"
          ]
        },
        {
          "data": {
            "image/png": "[encoded data removed]",
            "text/plain": [
              "<Figure size 640x480 with 1 Axes>"
            ]
          },
          "metadata": {},
          "output_type": "display_data"
        }
      ],
      "source": [
        "import collections\n",
        "from matplotlib import pyplot\n",
        "\n",
        "rotulos = df_filtrado['bethesda_system']\n",
        "\n",
        "# Checando quantidade de imagens do dataset\n",
        "print('Quantidade de imagens de treino:', len(x_treino))\n",
        "print('Quantidade de imagens de teste:', len(x_teste))\n",
        "\n",
        "# Contando quantidade de imagens por rótulo\n",
        "counterTreino = collections.Counter(y_treino)\n",
        "counterTeste = collections.Counter(y_teste)\n",
        "\n",
        "# Plotando quantidade de imagens de cada rótulo\n",
        "fig, ax = pyplot.subplots()\n",
        "rects1 = ax.bar(counterTreino.keys(), counterTreino.values(), label='Treino')\n",
        "rects2 = ax.bar(counterTeste.keys(), counterTeste.values(), label='Teste')\n",
        "\n",
        "ax.set_title('Imagens por rótulo')\n",
        "ax.set_ylabel('Quantidade de imagens')\n",
        "ax.set_xlabel('Rótulo')\n",
        "ax.legend()\n",
        "pyplot.show()"
      ]
    },
    {
      "cell_type": "markdown",
      "metadata": {
        "id": "YFU6bSGpzNOU"
      },
      "source": [
        "# Classificação de Mahalnobis"
      ]
    },
    {
      "cell_type": "code",
      "execution_count": 22,
      "metadata": {
        "id": "EhTbCh7v2jlg"
      },
      "outputs": [
        {
          "name": "stdout",
          "output_type": "stream",
          "text": [
            "Distância de Mahalanobis:  [363.09270687  47.95087199   7.71087389 184.50334742  59.70497553\n",
            "  62.15281094  26.50480181 108.83440928  42.8987337   31.3900867 ]\n",
            "Acurácia:  0.1\n",
            "Matriz de Confusão:\n",
            "[[1 0]\n",
            " [9 0]]\n"
          ]
        },
        {
          "data": {
            "image/png": "[encoded data removed]",
            "text/plain": [
              "<Figure size 640x480 with 2 Axes>"
            ]
          },
          "metadata": {},
          "output_type": "display_data"
        }
      ],
      "source": [
        "# Converter para numpy arrays\n",
        "x_treino_np = np.array([img.numpy().flatten() for img in x_treino])\n",
        "x_teste_np = np.array([img.numpy().flatten() for img in x_teste])\n",
        "\n",
        "# Mapeamento de classes\n",
        "class_mapping = {'Negative for intraepithelial lesion': 0}\n",
        "\n",
        "# Atribuir rótulo 1 para todas as outras classes\n",
        "for label in df_filtrado['bethesda_system'].unique():\n",
        "    if label not in class_mapping:\n",
        "        class_mapping[label] = 1\n",
        "\n",
        "# Mapeamento dos rótulos verdadeiros\n",
        "y_true_int = np.array([class_mapping[label] for label in y_teste])\n",
        "\n",
        "# Aplicar PCA para reduzir a dimensionalidade\n",
        "n_components = min(x_treino_np.shape[0], x_treino_np.shape[1])\n",
        "pca = PCA(n_components=n_components)\n",
        "x_treino_pca = pca.fit_transform(x_treino_np)\n",
        "x_teste_pca = pca.transform(x_teste_np)\n",
        "\n",
        "# Calcular a matriz de covariância e seu inverso para o conjunto de treino reduzido\n",
        "cov_matrix = np.cov(x_treino_pca, rowvar=False)\n",
        "regularization_term = 1e-5\n",
        "cov_matrix_regularized = cov_matrix + regularization_term * np.eye(cov_matrix.shape[0])\n",
        "inv_cov_matrix = np.linalg.inv(cov_matrix_regularized)\n",
        "\n",
        "# Calcular a distância Mahalanobis\n",
        "mahalanobis_dist = [distance.mahalanobis(imagem, np.mean(x_treino_pca, axis=0), inv_cov_matrix) for imagem in x_teste_pca]\n",
        "mahalanobis_dist_array = np.array(mahalanobis_dist)\n",
        "\n",
        "# Ajustar o limiar conforme necessário\n",
        "limiar = 5.0\n",
        "\n",
        "# Criar rótulos previstos com base nas distâncias\n",
        "y_pred_int = [0 if dist > limiar else 1 for dist in mahalanobis_dist_array]\n",
        "\n",
        "# Calcular a acurácia usando y_true_int e y_pred_int\n",
        "acc_binary = accuracy_score(y_true_int, y_pred_int)\n",
        "\n",
        "# Calcular a matriz de confusão\n",
        "cm_binary = confusion_matrix(y_true_int, y_pred_int)\n",
        "\n",
        "# Exibir resultados\n",
        "print(\"Distância de Mahalanobis: \", mahalanobis_dist_array)\n",
        "print(\"Acurácia: \", acc_binary)\n",
        "print(\"Matriz de Confusão:\")\n",
        "print(cm_binary)\n",
        "\n",
        "# Plotar a matriz de confusão\n",
        "plt.imshow(cm_binary, interpolation='nearest', cmap=plt.cm.Blues)\n",
        "plt.title('Matriz de Confusão - Binária')\n",
        "plt.colorbar()\n",
        "\n",
        "# Adicionar anotações\n",
        "for i in range(cm_binary.shape[0]):\n",
        "    for j in range(cm_binary.shape[1]):\n",
        "        plt.text(j, i, str(cm_binary[i, j]), ha='center', va='center', color='white')\n",
        "\n",
        "# Adicionar rótulos\n",
        "classes = np.unique(y_true_int)\n",
        "tick_marks = np.arange(len(classes))\n",
        "plt.xticks(tick_marks, classes)\n",
        "plt.yticks(tick_marks, classes)\n",
        "\n",
        "plt.xlabel('Previsto')\n",
        "plt.ylabel('Verdadeiro')\n",
        "plt.show()"
      ]
    },
    {
      "cell_type": "code",
      "execution_count": 33,
      "metadata": {},
      "outputs": [
        {
          "name": "stdout",
          "output_type": "stream",
          "text": [
            "Distâncias de Mahalanobis:  [363.09270687  47.95087199   7.71087389 184.50334742  59.70497553\n",
            "  62.15281094  26.50480181 108.83440928  42.8987337   31.3900867 ]\n",
            "Acurácia:  0.0\n",
            "Matriz de Confusão:\n",
            "[[0 0]\n",
            " [1 0]]\n"
          ]
        },
        {
          "data": {
            "image/png": "[encoded data removed]",
            "text/plain": [
              "<Figure size 640x480 with 2 Axes>"
            ]
          },
          "metadata": {},
          "output_type": "display_data"
        }
      ],
      "source": [
        "x_treino_np = np.array([img.numpy().flatten() for img in x_treino])\n",
        "x_teste_np = np.array([img.numpy().flatten() for img in x_teste])\n",
        "\n",
        "# Mapeamento de classes\n",
        "class_mapping = {label: i for i, label in enumerate(df_filtrado['bethesda_system'].unique())}\n",
        "\n",
        "# Mapeamento dos rótulos verdadeiros\n",
        "y_true_int = np.array([class_mapping[label] for label in y_teste])\n",
        "\n",
        "# Aplicar PCA para reduzir a dimensionalidade\n",
        "n_components = min(x_treino_np.shape[0], x_treino_np.shape[1])\n",
        "pca = PCA(n_components=n_components)\n",
        "x_treino_pca = pca.fit_transform(x_treino_np)\n",
        "x_teste_pca = pca.transform(x_teste_np)\n",
        "\n",
        "# Calcular a matriz de covariância e seu inverso para o conjunto de treino reduzido\n",
        "cov_matrix = np.cov(x_treino_pca, rowvar=False)\n",
        "regularization_term = 1e-5\n",
        "cov_matrix_regularized = cov_matrix + regularization_term * np.eye(cov_matrix.shape[0])\n",
        "inv_cov_matrix = np.linalg.inv(cov_matrix_regularized)\n",
        "\n",
        "# Calcular a distância Mahalanobis\n",
        "mahalanobis_dist = [distance.mahalanobis(imagem, np.mean(x_treino_pca, axis=0), inv_cov_matrix) for imagem in x_teste_pca]\n",
        "mahalanobis_dist_array = np.array(mahalanobis_dist)\n",
        "\n",
        "# Ajustar o limiar conforme necessário\n",
        "limiar = 5.0\n",
        "\n",
        "# Criar rótulos previstos com base nas distâncias\n",
        "y_pred_int = np.argmin(mahalanobis_dist_array, axis=0)\n",
        "\n",
        "# Ajustar a forma de y_true_int\n",
        "y_true_int = y_true_int.ravel()\n",
        "\n",
        "# Ajustar a forma de y_pred_int\n",
        "y_pred_int = y_pred_int.ravel()\n",
        "\n",
        "# Garantir que y_true_int e y_pred_int tenham o mesmo número de amostras\n",
        "min_samples = min(len(y_true_int), len(y_pred_int))\n",
        "y_true_int = y_true_int[:min_samples]\n",
        "y_pred_int = y_pred_int[:min_samples]\n",
        "\n",
        "# Calcular a acurácia usando y_true_int e y_pred_int\n",
        "acc_multiclass = accuracy_score(y_true_int, y_pred_int)\n",
        "\n",
        "# Calcular a matriz de confusão\n",
        "cm_multiclass = confusion_matrix(y_true_int, y_pred_int)\n",
        "\n",
        "# Exibir resultados\n",
        "print(\"Distâncias de Mahalanobis: \", mahalanobis_dist_array)\n",
        "print(\"Acurácia: \", acc_multiclass)\n",
        "print(\"Matriz de Confusão:\")\n",
        "print(cm_multiclass)\n",
        "\n",
        "# Plotar a matriz de confusão\n",
        "plt.imshow(cm_multiclass, interpolation='nearest', cmap=plt.cm.Blues)\n",
        "plt.title('Matriz de Confusão - Multiclasse')\n",
        "plt.colorbar()\n",
        "\n",
        "# Adicionar anotações\n",
        "for i in range(cm_multiclass.shape[0]):\n",
        "    for j in range(cm_multiclass.shape[1]):\n",
        "        plt.text(j, i, str(cm_multiclass[i, j]), ha='center', va='center', color='white')\n",
        "\n",
        "# Adicionar rótulos\n",
        "classes = np.unique(y_true_int)\n",
        "tick_marks = np.arange(len(classes))\n",
        "plt.xticks(tick_marks, classes)\n",
        "plt.yticks(tick_marks, classes)\n",
        "\n",
        "plt.xlabel('Previsto')\n",
        "plt.ylabel('Verdadeiro')\n",
        "plt.show()"
      ]
    },
    {
      "cell_type": "markdown",
      "metadata": {
        "id": "OG-mKtc88eCR"
      },
      "source": [
        "# Classificação CNN"
      ]
    },
    {
      "cell_type": "code",
      "execution_count": 36,
      "metadata": {
        "colab": {
          "base_uri": "https://localhost:8080/",
          "height": 245
        },
        "id": "rmJyLXTqdC2s",
        "outputId": "770e64d3-716f-44d6-9a4b-92d6f9a0eece"
      },
      "outputs": [],
      "source": [
        "class EfficientNetBinary(nn.Module):\n",
        "    def __init__(self):\n",
        "        super(EfficientNetBinary, self).__init__()\n",
        "        self.model = torchvision.models.efficientnet_b0(pretrained=True)\n",
        "        self.model.classifier[1] = nn.Linear(1280, 2)\n",
        "\n",
        "    def forward(self, x):\n",
        "        return self.model(x)\n",
        "\n",
        "\n",
        "class EfficientNetMulti(nn.Module):\n",
        "    def __init__(self):\n",
        "        super(EfficientNetMulti, self).__init__()\n",
        "        self.model = torchvision.models.efficientnet_b0(pretrained=True)\n",
        "        self.model.classifier[1] = nn.Linear(1280, 6)\n",
        "\n",
        "    def forward(self, x):\n",
        "        return self.model(x)"
      ]
    },
    {
      "cell_type": "code",
      "execution_count": 37,
      "metadata": {
        "colab": {
          "base_uri": "https://localhost:8080/"
        },
        "id": "9YsToZlde7Ex",
        "outputId": "b736b117-9550-468d-d74f-132df9d31276"
      },
      "outputs": [],
      "source": [
        "from PIL import Image\n",
        "from torch.utils.data import Dataset\n",
        "import torch\n",
        "import torchvision.transforms as transforms\n",
        "\n",
        "class CustomDataset(Dataset):\n",
        "    def __init__(self, images, labels, transform=None):\n",
        "        self.images = images\n",
        "        self.labels = labels\n",
        "        self.transform = transform\n",
        "\n",
        "    def __len__(self):\n",
        "        return len(self.images)\n",
        "\n",
        "    def __getitem__(self, idx):\n",
        "        image = self.images[idx]\n",
        "        label = self.labels[idx]\n",
        "\n",
        "        # Check if the image or label is None and handle it\n",
        "        if image is None or label is None:\n",
        "            # Return special values to indicate that this sample should be ignored\n",
        "            return torch.zeros(3, 224, 224), torch.tensor(-1, dtype=torch.long)\n",
        "\n",
        "        # Check if the image is a tensor and convert it to a PIL Image if needed\n",
        "        if not isinstance(image, Image.Image):\n",
        "            image = transforms.ToPILImage()(image)\n",
        "\n",
        "        if self.transform:\n",
        "            image = self.transform(image)\n",
        "\n",
        "        # Convert label to tensor\n",
        "        label_tensor = torch.tensor(label, dtype=torch.long)\n",
        "\n",
        "        return image, label_tensor\n"
      ]
    },
    {
      "cell_type": "code",
      "execution_count": 38,
      "metadata": {},
      "outputs": [
        {
          "name": "stderr",
          "output_type": "stream",
          "text": [
            "'wget' n�o � reconhecido como um comando interno\n",
            "ou externo, um programa oper�vel ou um arquivo em lotes.\n"
          ]
        }
      ],
      "source": [
        "!wget https://download.pytorch.org/models/efficientnet_b0_rwightman-3dd342df.pth\n",
        "torch.hub._validate_not_a_forked_repo=lambda a,b,c: True"
      ]
    },
    {
      "cell_type": "code",
      "execution_count": 39,
      "metadata": {
        "colab": {
          "base_uri": "https://localhost:8080/"
        },
        "id": "hzOUUjmFe9Ex",
        "outputId": "ee3022c3-d67b-4a46-eb20-d5e7cae40763"
      },
      "outputs": [
        {
          "ename": "FileNotFoundError",
          "evalue": "[Errno 2] No such file or directory: '/root/.cache/torch/hub/checkpoints/efficientnet_b0_rwightman-3dd342df.pth'",
          "output_type": "error",
          "traceback": [
            "\u001b[1;31m---------------------------------------------------------------------------\u001b[0m",
            "\u001b[1;31mFileNotFoundError\u001b[0m                         Traceback (most recent call last)",
            "\u001b[1;32mc:\\Users\\Home\\Documents\\6º período\\PAI\\PAI---trabalho-1\\trabalho_pai (1).ipynb Cell 15\u001b[0m line \u001b[0;36m6\n\u001b[0;32m      <a href='vscode-notebook-cell:/c%3A/Users/Home/Documents/6%C2%BA%20per%C3%ADodo/PAI/PAI---trabalho-1/trabalho_pai%20%281%29.ipynb#X24sZmlsZQ%3D%3D?line=2'>3</a>\u001b[0m url \u001b[39m=\u001b[39m \u001b[39m\"\u001b[39m\u001b[39mhttps://download.pytorch.org/models/efficientnet_b0_rwightman-3dd342df.pth\u001b[39m\u001b[39m\"\u001b[39m\n\u001b[0;32m      <a href='vscode-notebook-cell:/c%3A/Users/Home/Documents/6%C2%BA%20per%C3%ADodo/PAI/PAI---trabalho-1/trabalho_pai%20%281%29.ipynb#X24sZmlsZQ%3D%3D?line=3'>4</a>\u001b[0m destination \u001b[39m=\u001b[39m \u001b[39m\"\u001b[39m\u001b[39m/root/.cache/torch/hub/checkpoints/efficientnet_b0_rwightman-3dd342df.pth\u001b[39m\u001b[39m\"\u001b[39m\n\u001b[1;32m----> <a href='vscode-notebook-cell:/c%3A/Users/Home/Documents/6%C2%BA%20per%C3%ADodo/PAI/PAI---trabalho-1/trabalho_pai%20%281%29.ipynb#X24sZmlsZQ%3D%3D?line=5'>6</a>\u001b[0m urllib\u001b[39m.\u001b[39;49mrequest\u001b[39m.\u001b[39;49murlretrieve(url, destination)\n\u001b[0;32m      <a href='vscode-notebook-cell:/c%3A/Users/Home/Documents/6%C2%BA%20per%C3%ADodo/PAI/PAI---trabalho-1/trabalho_pai%20%281%29.ipynb#X24sZmlsZQ%3D%3D?line=7'>8</a>\u001b[0m efficientnet_binary \u001b[39m=\u001b[39m EfficientNetBinary()\n\u001b[0;32m      <a href='vscode-notebook-cell:/c%3A/Users/Home/Documents/6%C2%BA%20per%C3%ADodo/PAI/PAI---trabalho-1/trabalho_pai%20%281%29.ipynb#X24sZmlsZQ%3D%3D?line=8'>9</a>\u001b[0m efficientnet_multi \u001b[39m=\u001b[39m EfficientNetMulti()\n",
            "File \u001b[1;32mC:\\Program Files\\WindowsApps\\PythonSoftwareFoundation.Python.3.10_3.10.3056.0_x64__qbz5n2kfra8p0\\lib\\urllib\\request.py:251\u001b[0m, in \u001b[0;36murlretrieve\u001b[1;34m(url, filename, reporthook, data)\u001b[0m\n\u001b[0;32m    249\u001b[0m \u001b[39m# Handle temporary file setup.\u001b[39;00m\n\u001b[0;32m    250\u001b[0m \u001b[39mif\u001b[39;00m filename:\n\u001b[1;32m--> 251\u001b[0m     tfp \u001b[39m=\u001b[39m \u001b[39mopen\u001b[39;49m(filename, \u001b[39m'\u001b[39;49m\u001b[39mwb\u001b[39;49m\u001b[39m'\u001b[39;49m)\n\u001b[0;32m    252\u001b[0m \u001b[39melse\u001b[39;00m:\n\u001b[0;32m    253\u001b[0m     tfp \u001b[39m=\u001b[39m tempfile\u001b[39m.\u001b[39mNamedTemporaryFile(delete\u001b[39m=\u001b[39m\u001b[39mFalse\u001b[39;00m)\n",
            "\u001b[1;31mFileNotFoundError\u001b[0m: [Errno 2] No such file or directory: '/root/.cache/torch/hub/checkpoints/efficientnet_b0_rwightman-3dd342df.pth'"
          ]
        }
      ],
      "source": [
        "import urllib.request\n",
        "\n",
        "url = \"https://download.pytorch.org/models/efficientnet_b0_rwightman-3dd342df.pth\"\n",
        "destination = \"/root/.cache/torch/hub/checkpoints/efficientnet_b0_rwightman-3dd342df.pth\"\n",
        "\n",
        "urllib.request.urlretrieve(url, destination)\n",
        "\n",
        "efficientnet_binary = EfficientNetBinary()\n",
        "efficientnet_multi = EfficientNetMulti()\n",
        "\n",
        "criterion = nn.CrossEntropyLoss()\n",
        "optimizer = optim.Adam(efficientnet_binary.parameters(), lr=0.0001)"
      ]
    },
    {
      "cell_type": "code",
      "execution_count": 40,
      "metadata": {
        "colab": {
          "base_uri": "https://localhost:8080/",
          "height": 410
        },
        "id": "khfFF5enuRte",
        "outputId": "c28c0a32-e221-4e35-c752-833e789b52ac"
      },
      "outputs": [
        {
          "ename": "NameError",
          "evalue": "name 'test_images' is not defined",
          "output_type": "error",
          "traceback": [
            "\u001b[1;31m---------------------------------------------------------------------------\u001b[0m",
            "\u001b[1;31mNameError\u001b[0m                                 Traceback (most recent call last)",
            "\u001b[1;32mc:\\Users\\Home\\Documents\\6º período\\PAI\\PAI---trabalho-1\\trabalho_pai (1).ipynb Cell 16\u001b[0m line \u001b[0;36m2\n\u001b[0;32m     <a href='vscode-notebook-cell:/c%3A/Users/Home/Documents/6%C2%BA%20per%C3%ADodo/PAI/PAI---trabalho-1/trabalho_pai%20%281%29.ipynb#X25sZmlsZQ%3D%3D?line=21'>22</a>\u001b[0m train_loader \u001b[39m=\u001b[39m DataLoader(dataset, batch_size\u001b[39m=\u001b[39m\u001b[39m64\u001b[39m, shuffle\u001b[39m=\u001b[39m\u001b[39mTrue\u001b[39;00m)\n\u001b[0;32m     <a href='vscode-notebook-cell:/c%3A/Users/Home/Documents/6%C2%BA%20per%C3%ADodo/PAI/PAI---trabalho-1/trabalho_pai%20%281%29.ipynb#X25sZmlsZQ%3D%3D?line=23'>24</a>\u001b[0m \u001b[39m# Create the dataset for test\u001b[39;00m\n\u001b[1;32m---> <a href='vscode-notebook-cell:/c%3A/Users/Home/Documents/6%C2%BA%20per%C3%ADodo/PAI/PAI---trabalho-1/trabalho_pai%20%281%29.ipynb#X25sZmlsZQ%3D%3D?line=24'>25</a>\u001b[0m test_dataset \u001b[39m=\u001b[39m CustomDataset(test_images, test_labels, preprocessamento)\n\u001b[0;32m     <a href='vscode-notebook-cell:/c%3A/Users/Home/Documents/6%C2%BA%20per%C3%ADodo/PAI/PAI---trabalho-1/trabalho_pai%20%281%29.ipynb#X25sZmlsZQ%3D%3D?line=26'>27</a>\u001b[0m \u001b[39m# Create the dataloader for test\u001b[39;00m\n\u001b[0;32m     <a href='vscode-notebook-cell:/c%3A/Users/Home/Documents/6%C2%BA%20per%C3%ADodo/PAI/PAI---trabalho-1/trabalho_pai%20%281%29.ipynb#X25sZmlsZQ%3D%3D?line=27'>28</a>\u001b[0m test_loader \u001b[39m=\u001b[39m DataLoader(test_dataset, batch_size\u001b[39m=\u001b[39m\u001b[39m64\u001b[39m, shuffle\u001b[39m=\u001b[39m\u001b[39mFalse\u001b[39;00m)\n",
            "\u001b[1;31mNameError\u001b[0m: name 'test_images' is not defined"
          ]
        }
      ],
      "source": [
        "# Load and preprocess images\n",
        "images = []\n",
        "labels = []\n",
        "\n",
        "for img_path in caminho_completo:\n",
        "    image = Image.open(img_path)\n",
        "    image = preprocessamento(image)\n",
        "    images.append(image)\n",
        "\n",
        "    filtered_data = df_filtrado[df_filtrado['cell_id'] == os.path.splitext(img_path)[0]]\n",
        "    if not filtered_data.empty:\n",
        "        label = filtered_data['bethesda_system'].values[0]\n",
        "        labels.append(label)\n",
        "    else:\n",
        "        # Handle the case when there is no matching data for the image\n",
        "        labels.append(None)  # or any default label\n",
        "\n",
        "# Create the dataset\n",
        "dataset = CustomDataset(images, labels, preprocessamento)\n",
        "\n",
        "# Create the dataloader\n",
        "train_loader = DataLoader(dataset, batch_size=64, shuffle=True)\n",
        "\n",
        "# Create the dataset for test\n",
        "test_dataset = CustomDataset(test_images, test_labels, preprocessamento)\n",
        "\n",
        "# Create the dataloader for test\n",
        "test_loader = DataLoader(test_dataset, batch_size=64, shuffle=False)\n",
        "\n",
        "# Train the model\n",
        "for epoch in range(100):\n",
        "    # Train\n",
        "    efficientnet_binary.train()\n",
        "    for i, data in enumerate(train_loader):\n",
        "        inputs, train_labels = data\n",
        "\n",
        "        # Filtrar amostras com rótulos inválidos (-1)\n",
        "        valid_samples = (train_labels != -1)\n",
        "        valid_inputs = inputs[valid_samples]\n",
        "        valid_train_labels = train_labels[valid_samples]\n",
        "\n",
        "        optimizer.zero_grad()\n",
        "        outputs = efficientnet_binary(valid_inputs)\n",
        "        loss = criterion(outputs, valid_train_labels)\n",
        "        loss.backward()\n",
        "        optimizer.step()\n",
        "\n",
        "    # Evaluate on test set\n",
        "    efficientnet_binary.eval()\n",
        "    with torch.no_grad():\n",
        "        correct = 0\n",
        "        total = 0\n",
        "        for i, data in enumerate(test_loader):\n",
        "            inputs, test_labels = data\n",
        "            outputs = efficientnet_binary(inputs)\n",
        "            _, predicted = torch.max(outputs.data, 1)\n",
        "            total += test_labels.size(0)\n",
        "            correct += (predicted == test_labels).sum().item()\n",
        "        accuracy = 100 * correct / total\n",
        "        print(f\"Epoch {epoch + 1}, Accuracy on test set: {accuracy:.2f}%\")\n",
        "\n",
        "# Acurácia de treino\n",
        "efficientnet_binary.train()\n",
        "correct = 0\n",
        "total = 0\n",
        "for i, data in enumerate(train_loader):\n",
        "    inputs, labels = data\n",
        "    outputs = efficientnet_binary(inputs)\n",
        "    _, predicted = torch.max(outputs.data, 1)\n",
        "    total += labels.size(0)\n",
        "    correct += (predicted == labels).sum().item()\n",
        "accuracy_train = 100 * correct / total\n",
        "\n",
        "# Acurácia de teste\n",
        "efficientnet_binary.eval()\n",
        "correct = 0\n",
        "total = 0\n",
        "for i, data in enumerate(test_loader):\n",
        "    inputs, labels = data\n",
        "    outputs = efficientnet_binary(inputs)\n",
        "    _, predicted = torch.max(outputs.data, 1)\n",
        "    total += labels.size(0)\n",
        "    correct += (predicted == labels).sum().item()\n",
        "accuracy_test = 100 * correct / total"
      ]
    },
    {
      "cell_type": "code",
      "execution_count": null,
      "metadata": {},
      "outputs": [],
      "source": [
        "# Train the model\n",
        "for epoch in range(100):\n",
        "    # Train\n",
        "    efficientnet_binary.train()\n",
        "    for i, data in enumerate(train_loader):\n",
        "        inputs, labels = data\n",
        "\n",
        "        # Ignore samples with label -1 during loss calculation\n",
        "        valid_samples = (labels != -1)\n",
        "        valid_inputs = inputs[valid_samples]\n",
        "        valid_labels = labels[valid_samples]\n",
        "\n",
        "        optimizer.zero_grad()\n",
        "        outputs = efficientnet_binary(valid_inputs)\n",
        "        loss = criterion(outputs, valid_labels)\n",
        "        loss.backward()\n",
        "        optimizer.step()\n",
        "\n",
        "    # Evaluate\n",
        "    efficientnet_binary.eval()\n",
        "    with torch.no_grad():\n",
        "        correct = 0\n",
        "        total = 0\n",
        "        for i, data in enumerate(test_loader):\n",
        "            inputs, labels = data\n",
        "            outputs = efficientnet_binary(inputs)\n",
        "            _, predicted = torch.max(outputs.data, 1)\n",
        "            total += labels.size(0)\n",
        "            correct += (predicted == labels).sum().item()\n",
        "        accuracy = 100 * correct / total\n",
        "        print(f\"Epoch {epoch + 1}: {accuracy:.2f}%\")"
      ]
    },
    {
      "cell_type": "code",
      "execution_count": null,
      "metadata": {},
      "outputs": [],
      "source": [
        "# Acurácia de treino\n",
        "efficientnet_binary.train()\n",
        "correct = 0\n",
        "total = 0\n",
        "for i, data in enumerate(train_loader):\n",
        "    inputs, labels = data\n",
        "    outputs = efficientnet_binary(inputs)\n",
        "    _, predicted = torch.max(outputs.data, 1)\n",
        "    total += labels.size(0)\n",
        "    correct += (predicted == labels).sum().item()\n",
        "accuracy_train = 100 * correct / total\n",
        "\n",
        "# Acurácia de teste\n",
        "efficientnet_binary.eval()\n",
        "correct = 0\n",
        "total = 0\n",
        "for i, data in enumerate(test_loader):\n",
        "    inputs, labels = data\n",
        "    outputs = efficientnet_binary(inputs)\n",
        "    _, predicted = torch.max(outputs.data, 1)\n",
        "    total += labels.size(0)\n",
        "    correct += (predicted == labels).sum().item()\n",
        "accuracy_test = 100 * correct / total\n"
      ]
    }
  ],
  "metadata": {
    "colab": {
      "collapsed_sections": [
        "YFU6bSGpzNOU"
      ],
      "provenance": []
    },
    "kernelspec": {
      "display_name": "Python 3",
      "name": "python3"
    },
    "language_info": {
      "codemirror_mode": {
        "name": "ipython",
        "version": 3
      },
      "file_extension": ".py",
      "mimetype": "text/x-python",
      "name": "python",
      "nbconvert_exporter": "python",
      "pygments_lexer": "ipython3",
      "version": "3.10.11"
    }
  },
  "nbformat": 4,
  "nbformat_minor": 0
}
