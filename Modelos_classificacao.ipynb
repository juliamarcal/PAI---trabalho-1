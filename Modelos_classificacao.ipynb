{
  "cells": [
    {
      "cell_type": "code",
      "execution_count": 5,
      "metadata": {
        "id": "zViXh4yRqm8z"
      },
      "outputs": [],
      "source": [
        "import os\n",
        "import pandas as pd\n",
        "import numpy as np\n",
        "from PIL import Image\n",
        "from sklearn.model_selection import train_test_split\n",
        "from sklearn.decomposition import PCA\n",
        "from scipy.spatial import distance\n",
        "from sklearn.metrics import accuracy_score, confusion_matrix\n",
        "from matplotlib import pyplot as plt\n",
        "from torchvision import transforms\n",
        "import torch\n",
        "import torchvision\n",
        "import torch.nn as nn\n",
        "import torch.optim as optim\n",
        "from torch.utils.data import Dataset, DataLoader\n",
        "from torchvision.models import efficientnet_b0\n",
        "import torchvision.transforms as transforms"
      ]
    },
    {
      "cell_type": "markdown",
      "metadata": {
        "id": "ecwlJs0HGGtp"
      },
      "source": [
        "Separação de dados principais"
      ]
    },
    {
      "cell_type": "code",
      "execution_count": 6,
      "metadata": {
        "id": "riJ_r-guzx_J"
      },
      "outputs": [],
      "source": [
        "df = pd.read_csv('classifications.csv')"
      ]
    },
    {
      "cell_type": "code",
      "execution_count": null,
      "metadata": {
        "colab": {
          "base_uri": "https://localhost:8080/"
        },
        "id": "HNsB6hEeKz2k",
        "outputId": "151d85e3-4de9-43c4-be14-9259ed336f65"
      },
      "outputs": [],
      "source": [
        "# Caminho para o diretório desejado\n",
        "#!unzip 'imagens_segmentadas.zip'"
      ]
    },
    {
      "cell_type": "code",
      "execution_count": 7,
      "metadata": {
        "colab": {
          "base_uri": "https://localhost:8080/"
        },
        "id": "cRbVv7TJSr-J",
        "outputId": "4ed1a906-29e0-49d2-ef2a-dd7a18d85d1e"
      },
      "outputs": [
        {
          "name": "stdout",
          "output_type": "stream",
          "text": [
            "['10.png', '11.png', '12.png', '13.png', '14.png', '15.png', '16.png', '17.png', '18.png', '19.png', '2.png', '20.png', '21.png', '22.png', '23.png', '24.png', '25.png', '26.png', '27.png', '28.png', '29.png', '3.png', '30.png', '31.png', '32.png', '33.png', '34.png', '35.png', '36.png', '37.png', '38.png', '39.png', '4.png', '40.png', '41.png', '42.png', '43.png', '44.png', '45.png', '46.png', '47.png', '5.png', '6.png', '7.png', '8.png', '9.png']\n"
          ]
        }
      ],
      "source": [
        "caminho_diretorio ='imagem_segmentada/'\n",
        "\n",
        "#Listar arquivos no diretório\n",
        "arquivos = os.listdir(caminho_diretorio)\n",
        "\n",
        "# Exibir os arquivos\n",
        "print(arquivos)"
      ]
    },
    {
      "cell_type": "code",
      "execution_count": 8,
      "metadata": {
        "id": "637F5auLHTki"
      },
      "outputs": [],
      "source": [
        "df['cell_id'] = df['cell_id'].astype(str)\n",
        "\n",
        "# Mapeando os tipos de células para as imagens\n",
        "ids_imagens = [os.path.splitext(imagem)[0] for imagem in arquivos]\n",
        "df_filtrado = df[df['cell_id'].isin(ids_imagens)]\n",
        "\n",
        "# Caminho completo para o diretório de imagens\n",
        "caminho_completo = [os.path.join(caminho_diretorio, f\"{id}.png\") for id in ids_imagens]\n",
        "\n",
        "# Carregar as imagens\n",
        "imagens = [Image.open(caminho) for caminho in caminho_completo]\n",
        "\n",
        "# Exemplo de redimensionamento e normalização\n",
        "preprocessamento = transforms.Compose([\n",
        "    transforms.Resize((64,64)),\n",
        "    transforms.ToTensor(),\n",
        "    transforms.Normalize((0.5, 0.5, 0.5), (0.5, 0.5, 0.5))\n",
        "])\n",
        "\n",
        "imagens_processadas = [preprocessamento(imagem) for imagem in imagens]\n",
        "\n",
        "# Divisão estratificada entre treino e teste\n",
        "x_treino, x_teste, y_treino, y_teste = train_test_split(\n",
        "    imagens_processadas, df_filtrado['bethesda_system'],\n",
        "    test_size=0.2, random_state=42, stratify=df_filtrado['bethesda_system']\n",
        ")\n"
      ]
    },
    {
      "cell_type": "code",
      "execution_count": 9,
      "metadata": {
        "colab": {
          "base_uri": "https://localhost:8080/",
          "height": 507
        },
        "id": "GMOipHJjc3VL",
        "outputId": "dffbfff3-001a-4776-fbb0-5c462f1bf3ee"
      },
      "outputs": [
        {
          "name": "stdout",
          "output_type": "stream",
          "text": [
            "Quantidade de imagens de treino: 36\n",
            "Quantidade de imagens de teste: 10\n"
          ]
        },
        {
          "data": {
            "image/png": "[encoded data removed]",
            "text/plain": [
              "<Figure size 640x480 with 1 Axes>"
            ]
          },
          "metadata": {},
          "output_type": "display_data"
        }
      ],
      "source": [
        "import collections\n",
        "from matplotlib import pyplot\n",
        "\n",
        "rotulos = df_filtrado['bethesda_system']\n",
        "\n",
        "# Checando quantidade de imagens do dataset\n",
        "print('Quantidade de imagens de treino:', len(x_treino))\n",
        "print('Quantidade de imagens de teste:', len(x_teste))\n",
        "\n",
        "# Contando quantidade de imagens por rótulo\n",
        "counterTreino = collections.Counter(y_treino)\n",
        "counterTeste = collections.Counter(y_teste)\n",
        "\n",
        "# Plotando quantidade de imagens de cada rótulo\n",
        "fig, ax = pyplot.subplots()\n",
        "rects1 = ax.bar(counterTreino.keys(), counterTreino.values(), label='Treino')\n",
        "rects2 = ax.bar(counterTeste.keys(), counterTeste.values(), label='Teste')\n",
        "\n",
        "ax.set_title('Imagens por rótulo')\n",
        "ax.set_ylabel('Quantidade de imagens')\n",
        "ax.set_xlabel('Rótulo')\n",
        "ax.legend()\n",
        "pyplot.show()"
      ]
    },
    {
      "cell_type": "markdown",
      "metadata": {
        "id": "YFU6bSGpzNOU"
      },
      "source": [
        "# Classificação de Mahalnobis"
      ]
    },
    {
      "cell_type": "code",
      "execution_count": 22,
      "metadata": {
        "id": "EhTbCh7v2jlg"
      },
      "outputs": [
        {
          "name": "stdout",
          "output_type": "stream",
          "text": [
            "Distância de Mahalanobis:  [363.09270687  47.95087199   7.71087389 184.50334742  59.70497553\n",
            "  62.15281094  26.50480181 108.83440928  42.8987337   31.3900867 ]\n",
            "Acurácia:  0.1\n",
            "Matriz de Confusão:\n",
            "[[1 0]\n",
            " [9 0]]\n"
          ]
        },
        {
          "data": {
            "image/png": "[encoded data removed]",
            "text/plain": [
              "<Figure size 640x480 with 2 Axes>"
            ]
          },
          "metadata": {},
          "output_type": "display_data"
        }
      ],
      "source": [
        "# Converter para numpy arrays\n",
        "x_treino_np = np.array([img.numpy().flatten() for img in x_treino])\n",
        "x_teste_np = np.array([img.numpy().flatten() for img in x_teste])\n",
        "\n",
        "# Mapeamento de classes\n",
        "class_mapping = {'Negative for intraepithelial lesion': 0}\n",
        "\n",
        "# Atribuir rótulo 1 para todas as outras classes\n",
        "for label in df_filtrado['bethesda_system'].unique():\n",
        "    if label not in class_mapping:\n",
        "        class_mapping[label] = 1\n",
        "\n",
        "# Mapeamento dos rótulos verdadeiros\n",
        "y_true_int = np.array([class_mapping[label] for label in y_teste])\n",
        "\n",
        "# Aplicar PCA para reduzir a dimensionalidade\n",
        "n_components = min(x_treino_np.shape[0], x_treino_np.shape[1])\n",
        "pca = PCA(n_components=n_components)\n",
        "x_treino_pca = pca.fit_transform(x_treino_np)\n",
        "x_teste_pca = pca.transform(x_teste_np)\n",
        "\n",
        "# Calcular a matriz de covariância e seu inverso para o conjunto de treino reduzido\n",
        "cov_matrix = np.cov(x_treino_pca, rowvar=False)\n",
        "regularization_term = 1e-5\n",
        "cov_matrix_regularized = cov_matrix + regularization_term * np.eye(cov_matrix.shape[0])\n",
        "inv_cov_matrix = np.linalg.inv(cov_matrix_regularized)\n",
        "\n",
        "# Calcular a distância Mahalanobis\n",
        "mahalanobis_dist = [distance.mahalanobis(imagem, np.mean(x_treino_pca, axis=0), inv_cov_matrix) for imagem in x_teste_pca]\n",
        "mahalanobis_dist_array = np.array(mahalanobis_dist)\n",
        "\n",
        "# Ajustar o limiar conforme necessário\n",
        "limiar = 5.0\n",
        "\n",
        "# Criar rótulos previstos com base nas distâncias\n",
        "y_pred_int = [0 if dist > limiar else 1 for dist in mahalanobis_dist_array]\n",
        "\n",
        "# Calcular a acurácia usando y_true_int e y_pred_int\n",
        "acc_binary = accuracy_score(y_true_int, y_pred_int)\n",
        "\n",
        "# Calcular a matriz de confusão\n",
        "cm_binary = confusion_matrix(y_true_int, y_pred_int)\n",
        "\n",
        "# Exibir resultados\n",
        "print(\"Distância de Mahalanobis: \", mahalanobis_dist_array)\n",
        "print(\"Acurácia: \", acc_binary)\n",
        "print(\"Matriz de Confusão:\")\n",
        "print(cm_binary)\n",
        "\n",
        "# Plotar a matriz de confusão\n",
        "plt.imshow(cm_binary, interpolation='nearest', cmap=plt.cm.Blues)\n",
        "plt.title('Matriz de Confusão - Binária')\n",
        "plt.colorbar()\n",
        "\n",
        "# Adicionar anotações\n",
        "for i in range(cm_binary.shape[0]):\n",
        "    for j in range(cm_binary.shape[1]):\n",
        "        plt.text(j, i, str(cm_binary[i, j]), ha='center', va='center', color='white')\n",
        "\n",
        "# Adicionar rótulos\n",
        "classes = np.unique(y_true_int)\n",
        "tick_marks = np.arange(len(classes))\n",
        "plt.xticks(tick_marks, classes)\n",
        "plt.yticks(tick_marks, classes)\n",
        "\n",
        "plt.xlabel('Previsto')\n",
        "plt.ylabel('Verdadeiro')\n",
        "plt.show()"
      ]
    },
    {
      "cell_type": "code",
      "execution_count": 27,
      "metadata": {},
      "outputs": [
        {
          "name": "stdout",
          "output_type": "stream",
          "text": [
            "Distâncias de Mahalanobis:  [363.09270687  47.95087199   7.71087389 184.50334742  59.70497553\n",
            "  62.15281094  26.50480181 108.83440928  42.8987337   31.3900867 ]\n",
            "Acurácia:  0.1\n",
            "Matriz de Confusão:\n",
            "[[0 1 0 0 0]\n",
            " [0 1 0 0 0]\n",
            " [0 3 0 0 0]\n",
            " [0 1 0 0 0]\n",
            " [0 4 0 0 0]]\n"
          ]
        },
        {
          "data": {
            "image/png": "[encoded data removed]",
            "text/plain": [
              "<Figure size 640x480 with 2 Axes>"
            ]
          },
          "metadata": {},
          "output_type": "display_data"
        }
      ],
      "source": [
        "x_treino_np = np.array([img.numpy().flatten() for img in x_treino])\n",
        "x_teste_np = np.array([img.numpy().flatten() for img in x_teste])\n",
        "\n",
        "n_components = min(x_treino_np.shape[0], x_treino_np.shape[1])\n",
        "pca = PCA(n_components=n_components)\n",
        "x_treino_pca = pca.fit_transform(x_treino_np)\n",
        "x_teste_pca = pca.transform(x_teste_np)\n",
        "\n",
        "class_mapping = {label: idx for idx, label in enumerate(df_filtrado['bethesda_system'].unique())}\n",
        "\n",
        "\n",
        "# Calcular a matriz de covariância e seu inverso para o conjunto de treino reduzido\n",
        "cov_matrix = np.cov(x_treino_pca, rowvar=False)\n",
        "regularization_term = 1e-5\n",
        "cov_matrix_regularized = cov_matrix + regularization_term * np.eye(cov_matrix.shape[0])\n",
        "inv_cov_matrix = np.linalg.inv(cov_matrix_regularized)\n",
        "\n",
        "# Calcular a distância Mahalanobis\n",
        "mahalanobis_dist = [distance.mahalanobis(imagem, np.mean(x_treino_pca, axis=0), inv_cov_matrix) for imagem in x_teste_pca]\n",
        "mahalanobis_dist_array = np.array(mahalanobis_dist)\n",
        "\n",
        "# Ajustar o limiar conforme necessário\n",
        "limiar = 5.0\n",
        "\n",
        "y_true_int = np.array([class_mapping[label] for label in y_teste])\n",
        "\n",
        "# Criar rótulos previstos com base nas distâncias\n",
        "y_pred_int = (mahalanobis_dist_array > limiar).astype(int)\n",
        "\n",
        "# Ajustar a forma de y_true_int\n",
        "y_true_int = y_true_int.ravel()\n",
        "\n",
        "# Ajustar a forma de y_pred_int\n",
        "y_pred_int = y_pred_int.ravel()\n",
        "\n",
        "# Garantir que y_true_int e y_pred_int tenham o mesmo número de amostras\n",
        "min_samples = min(len(y_true_int), len(y_pred_int))\n",
        "y_true_int = y_true_int[:min_samples]\n",
        "y_pred_int = y_pred_int[:min_samples]\n",
        "\n",
        "# Calcular a acurácia usando y_true_int e y_pred_int\n",
        "acc_multiclass = accuracy_score(y_true_int, y_pred_int)\n",
        "\n",
        "# Calcular a matriz de confusão\n",
        "cm_multiclass = confusion_matrix(y_true_int, y_pred_int)\n",
        "\n",
        "# Exibir resultados\n",
        "print(\"Distâncias de Mahalanobis: \", mahalanobis_dist_array)\n",
        "print(\"Acurácia: \", acc_multiclass)\n",
        "print(\"Matriz de Confusão:\")\n",
        "print(cm_multiclass)\n",
        "\n",
        "# Plotar a matriz de confusão\n",
        "plt.imshow(cm_multiclass, interpolation='nearest', cmap=plt.cm.Blues)\n",
        "plt.title('Matriz de Confusão - Multiclasse')\n",
        "plt.colorbar()\n",
        "\n",
        "# Adicionar anotações\n",
        "for i in range(cm_multiclass.shape[0]):\n",
        "    for j in range(cm_multiclass.shape[1]):\n",
        "        plt.text(j, i, str(cm_multiclass[i, j]), ha='center', va='center', color='white')\n",
        "\n",
        "# Adicionar rótulos\n",
        "classes = np.unique(y_true_int)\n",
        "tick_marks = np.arange(len(classes))\n",
        "plt.xticks(tick_marks, classes)\n",
        "plt.yticks(tick_marks, classes)\n",
        "\n",
        "plt.xlabel('Previsto')\n",
        "plt.ylabel('Verdadeiro')\n",
        "plt.show()"
      ]
    },
    {
      "cell_type": "markdown",
      "metadata": {
        "id": "OG-mKtc88eCR"
      },
      "source": [
        "# Classificação CNN"
      ]
    },
    {
      "cell_type": "code",
      "execution_count": 10,
      "metadata": {
        "colab": {
          "base_uri": "https://localhost:8080/",
          "height": 245
        },
        "id": "rmJyLXTqdC2s",
        "outputId": "770e64d3-716f-44d6-9a4b-92d6f9a0eece"
      },
      "outputs": [],
      "source": [
        "class EfficientNetBinary(nn.Module):\n",
        "    def __init__(self):\n",
        "        super(EfficientNetBinary, self).__init__()\n",
        "        self.model = efficientnet_b0(pretrained=True)\n",
        "        self.model.classifier[1] = nn.Linear(1280, 2)\n",
        "\n",
        "    def forward(self, x):\n",
        "        return self.model(x)\n",
        "\n",
        "\n",
        "class EfficientNetMulti(nn.Module):\n",
        "    def __init__(self):\n",
        "        super(EfficientNetMulti, self).__init__()\n",
        "        self.model = torchvision.models.efficientnet_b0(pretrained=True)\n",
        "        self.model.classifier[1] = nn.Linear(1280, 6)\n",
        "\n",
        "    def forward(self, x):\n",
        "        return self.model(x)"
      ]
    },
    {
      "cell_type": "code",
      "execution_count": 11,
      "metadata": {
        "colab": {
          "base_uri": "https://localhost:8080/"
        },
        "id": "9YsToZlde7Ex",
        "outputId": "b736b117-9550-468d-d74f-132df9d31276"
      },
      "outputs": [],
      "source": [
        "class CustomDataset_Binario(Dataset):\n",
        "    def __init__(self, caminho_diretorio, df_filtrado, images, labels, transform=None):\n",
        "        self.caminho_diretorio = caminho_diretorio\n",
        "        self.df_filtrado = df_filtrado\n",
        "        self.images = images\n",
        "        self.labels = labels\n",
        "        self.transform = transform\n",
        "        self.class_mapping = {'Negative for intraepithelial lesion': 0}\n",
        "\n",
        "        # Atribuir rótulo 1 para todas as outras classes\n",
        "        for label in df_filtrado['bethesda_system'].unique():\n",
        "            if label not in self.class_mapping:\n",
        "                self.class_mapping[label] = 1\n",
        "\n",
        "    def __len__(self):\n",
        "        return len(self.images)\n",
        "\n",
        "    def __getitem__(self, idx):\n",
        "        img_name = self.df_filtrado.iloc[idx]['cell_id']\n",
        "        img_path = os.path.join(self.caminho_diretorio, f\"{img_name}.png\")\n",
        "\n",
        "        if not os.path.exists(img_path):\n",
        "            print(f\"Arquivo não encontrado: {img_path}\")\n",
        "            return torch.zeros(3, 64, 64), torch.tensor(-1, dtype=torch.long)\n",
        "\n",
        "        # Carregar a imagem\n",
        "        image = Image.open(img_path)\n",
        "\n",
        "        if self.transform:\n",
        "            image = self.transform(image)\n",
        "\n",
        "        # Convert label to tensor\n",
        "        label = self.df_filtrado.iloc[idx]['bethesda_system']\n",
        "        label_tensor = torch.tensor(self.class_mapping[label], dtype=torch.long)\n",
        "\n",
        "        return image, label_tensor\n"
      ]
    },
    {
      "cell_type": "code",
      "execution_count": 19,
      "metadata": {
        "colab": {
          "base_uri": "https://localhost:8080/",
          "height": 410
        },
        "id": "khfFF5enuRte",
        "outputId": "c28c0a32-e221-4e35-c752-833e789b52ac"
      },
      "outputs": [
        {
          "name": "stderr",
          "output_type": "stream",
          "text": [
            "C:\\Users\\Home\\AppData\\Local\\Packages\\PythonSoftwareFoundation.Python.3.10_qbz5n2kfra8p0\\LocalCache\\local-packages\\Python310\\site-packages\\torchvision\\models\\_utils.py:208: UserWarning: The parameter 'pretrained' is deprecated since 0.13 and may be removed in the future, please use 'weights' instead.\n",
            "  warnings.warn(\n",
            "C:\\Users\\Home\\AppData\\Local\\Packages\\PythonSoftwareFoundation.Python.3.10_qbz5n2kfra8p0\\LocalCache\\local-packages\\Python310\\site-packages\\torchvision\\models\\_utils.py:223: UserWarning: Arguments other than a weight enum or `None` for 'weights' are deprecated since 0.13 and may be removed in the future. The current behavior is equivalent to passing `weights=EfficientNet_B0_Weights.IMAGENET1K_V1`. You can also use `weights=EfficientNet_B0_Weights.DEFAULT` to get the most up-to-date weights.\n",
            "  warnings.warn(msg)\n"
          ]
        },
        {
          "name": "stdout",
          "output_type": "stream",
          "text": [
            "Acurácia de treino: 100.00%\n",
            "Acurácia de teste: 100.00%\n"
          ]
        }
      ],
      "source": [
        "# Criar o DataLoader para treinamento\n",
        "train_dataset = CustomDataset_Binario(caminho_diretorio, df_filtrado, x_treino, y_treino, transform=preprocessamento)\n",
        "train_loader = DataLoader(train_dataset, batch_size=36, shuffle=True)\n",
        "\n",
        "# Criar o DataLoader para teste\n",
        "test_dataset = CustomDataset_Binario(caminho_diretorio, df_filtrado, x_teste, y_teste, transform=preprocessamento)\n",
        "test_loader = DataLoader(test_dataset, batch_size=10, shuffle=False)\n",
        "\n",
        "# Instanciar o modelo\n",
        "efficientnet_binary = EfficientNetBinary()\n",
        "\n",
        "# Definir critério e otimizador\n",
        "criterion = nn.CrossEntropyLoss()\n",
        "optimizer = optim.Adam(efficientnet_binary.parameters(), lr=0.0001)\n",
        "\n",
        "# Treinar o modelo\n",
        "for epoch in range(100):\n",
        "    # Modo de treinamento\n",
        "    efficientnet_binary.train()\n",
        "    running_loss = 0.0\n",
        "\n",
        "    for i, data in enumerate(train_loader):\n",
        "        inputs, train_labels = data\n",
        "\n",
        "        optimizer.zero_grad()\n",
        "        outputs = efficientnet_binary(inputs)\n",
        "        loss = criterion(outputs, train_labels)\n",
        "        loss.backward()\n",
        "        optimizer.step()\n",
        "\n",
        "\n",
        "    # Avaliar no conjunto de teste\n",
        "    efficientnet_binary.eval()\n",
        "    with torch.no_grad():\n",
        "        correct = 0\n",
        "        total = 0\n",
        "\n",
        "        for i, data in enumerate(test_loader):\n",
        "            inputs, test_labels = data\n",
        "            outputs = efficientnet_binary(inputs)\n",
        "            _, predicted = torch.max(outputs.data, 1)\n",
        "            total += test_labels.size(0)\n",
        "            correct += (predicted == test_labels).sum().item()\n",
        "\n",
        "        accuracy = 100 * correct / total\n",
        "\n",
        "# Acurácia de treino\n",
        "efficientnet_binary.train()\n",
        "correct = 0\n",
        "total = 0\n",
        "\n",
        "for i, data in enumerate(train_loader):\n",
        "    inputs, labels = data\n",
        "    outputs = efficientnet_binary(inputs)\n",
        "    _, predicted = torch.max(outputs.data, 1)\n",
        "    total += labels.size(0)\n",
        "    correct += (predicted == labels).sum().item()\n",
        "\n",
        "accuracy_train = 100 * correct / total\n",
        "\n",
        "# Acurácia de teste\n",
        "efficientnet_binary.eval()\n",
        "all_true_labels = []\n",
        "all_predicted_labels = []\n",
        "correct = 0\n",
        "total = 0\n",
        "\n",
        "for i, data in enumerate(test_loader):\n",
        "    inputs, labels = data\n",
        "    outputs = efficientnet_binary(inputs)\n",
        "    _, predicted = torch.max(outputs.data, 1)\n",
        "    total += labels.size(0)\n",
        "    correct += (predicted == labels).sum().item()\n",
        "\n",
        "accuracy_test = 100 * correct / total\n",
        "\n",
        "print(f\"Acurácia de treino: {accuracy_train:.2f}%\")\n",
        "print(f\"Acurácia de teste: {accuracy_test:.2f}%\")"
      ]
    },
    {
      "cell_type": "code",
      "execution_count": 21,
      "metadata": {},
      "outputs": [
        {
          "data": {
            "image/png": "[encoded data removed]",
            "text/plain": [
              "<Figure size 640x480 with 2 Axes>"
            ]
          },
          "metadata": {},
          "output_type": "display_data"
        }
      ],
      "source": [
        "all_true_labels.extend(test_labels.cpu().numpy())  # Convertendo para NumPy\n",
        "all_predicted_labels.extend(predicted.cpu().numpy())  # Convertendo para NumPy\n",
        "\n",
        "cm_binary = confusion_matrix(all_true_labels, all_predicted_labels)\n",
        "\n",
        "# Plotar a matriz de confusão\n",
        "plt.imshow(cm_binary, interpolation='nearest', cmap=plt.cm.Blues)\n",
        "plt.title('Matriz de Confusão - Binária')\n",
        "plt.colorbar()\n",
        "\n",
        "# Adicionar anotações\n",
        "for i in range(cm_binary.shape[0]):\n",
        "    for j in range(cm_binary.shape[1]):\n",
        "        plt.text(j, i, str(cm_binary[i, j]), ha='center', va='center', color='white')\n",
        "\n",
        "# Adicionar rótulos\n",
        "classes = np.unique(all_true_labels)\n",
        "tick_marks = np.arange(len(classes))\n",
        "plt.xticks(tick_marks, classes)\n",
        "plt.yticks(tick_marks, classes)\n",
        "\n",
        "plt.xlabel('Previsto')\n",
        "plt.ylabel('Verdadeiro')\n",
        "plt.show()"
      ]
    },
    {
      "cell_type": "code",
      "execution_count": 16,
      "metadata": {},
      "outputs": [],
      "source": [
        "class CustomDataset_Multiclasse(Dataset):\n",
        "    def __init__(self, caminho_diretorio, df_filtrado, images, labels, transform=None):\n",
        "        self.caminho_diretorio = caminho_diretorio\n",
        "        self.df_filtrado = df_filtrado\n",
        "        self.images = images\n",
        "        self.labels = labels\n",
        "        self.transform = transform\n",
        "        self.class_mapping = {label: idx for idx, label in enumerate(df_filtrado['bethesda_system'].unique())}\n",
        "\n",
        "    def __len__(self):\n",
        "        return len(self.images)\n",
        "\n",
        "    def __getitem__(self, idx):\n",
        "        img_name = self.df_filtrado.iloc[idx]['cell_id']\n",
        "        img_path = os.path.join(self.caminho_diretorio, f\"{img_name}.png\")\n",
        "\n",
        "        if not os.path.exists(img_path):\n",
        "            print(f\"Arquivo não encontrado: {img_path}\")\n",
        "            return torch.zeros(3, 64, 64), torch.tensor(-1, dtype=torch.long)\n",
        "\n",
        "        # Carregar a imagem\n",
        "        image = Image.open(img_path)\n",
        "\n",
        "        if self.transform:\n",
        "            image = self.transform(image)\n",
        "\n",
        "        # Convert label to tensor\n",
        "        label = self.df_filtrado.iloc[idx]['bethesda_system']\n",
        "        label_tensor = torch.tensor(self.class_mapping[label], dtype=torch.long)\n",
        "\n",
        "        return image, label_tensor"
      ]
    },
    {
      "cell_type": "code",
      "execution_count": 22,
      "metadata": {},
      "outputs": [
        {
          "name": "stderr",
          "output_type": "stream",
          "text": [
            "C:\\Users\\Home\\AppData\\Local\\Packages\\PythonSoftwareFoundation.Python.3.10_qbz5n2kfra8p0\\LocalCache\\local-packages\\Python310\\site-packages\\torchvision\\models\\_utils.py:208: UserWarning: The parameter 'pretrained' is deprecated since 0.13 and may be removed in the future, please use 'weights' instead.\n",
            "  warnings.warn(\n",
            "C:\\Users\\Home\\AppData\\Local\\Packages\\PythonSoftwareFoundation.Python.3.10_qbz5n2kfra8p0\\LocalCache\\local-packages\\Python310\\site-packages\\torchvision\\models\\_utils.py:223: UserWarning: Arguments other than a weight enum or `None` for 'weights' are deprecated since 0.13 and may be removed in the future. The current behavior is equivalent to passing `weights=EfficientNet_B0_Weights.IMAGENET1K_V1`. You can also use `weights=EfficientNet_B0_Weights.DEFAULT` to get the most up-to-date weights.\n",
            "  warnings.warn(msg)\n"
          ]
        },
        {
          "name": "stdout",
          "output_type": "stream",
          "text": [
            "Acurácia de treino: 100.00%\n",
            "Acurácia de teste: 100.00%\n"
          ]
        }
      ],
      "source": [
        "# Criar o DataLoader para treinamento\n",
        "train_dataset = CustomDataset_Multiclasse(caminho_diretorio, df_filtrado, x_treino, y_treino, transform=preprocessamento)\n",
        "train_loader = DataLoader(train_dataset, batch_size=36, shuffle=True)\n",
        "\n",
        "# Criar o DataLoader para teste\n",
        "test_dataset = CustomDataset_Multiclasse(caminho_diretorio, df_filtrado, x_teste, y_teste, transform=preprocessamento)\n",
        "test_loader = DataLoader(test_dataset, batch_size=10, shuffle=False)\n",
        "\n",
        "# Instanciar o modelo\n",
        "efficientnet_multi = EfficientNetMulti()\n",
        "\n",
        "# Definir critério e otimizador\n",
        "criterion = nn.CrossEntropyLoss()\n",
        "optimizer = optim.Adam(efficientnet_multi.parameters(), lr=0.0001)\n",
        "\n",
        "# Treinar o modelo\n",
        "for epoch in range(100):\n",
        "    # Modo de treinamento\n",
        "    efficientnet_multi.train()\n",
        "    running_loss = 0.0\n",
        "\n",
        "    for i, data in enumerate(train_loader):\n",
        "        inputs, train_labels = data\n",
        "\n",
        "        optimizer.zero_grad()\n",
        "        outputs = efficientnet_multi(inputs)\n",
        "        loss = criterion(outputs, train_labels)\n",
        "        loss.backward()\n",
        "        optimizer.step()\n",
        "\n",
        "\n",
        "    # Avaliar no conjunto de teste\n",
        "    efficientnet_multi.eval()\n",
        "    with torch.no_grad():\n",
        "        correct = 0\n",
        "        total = 0\n",
        "\n",
        "        for i, data in enumerate(test_loader):\n",
        "            inputs, test_labels = data\n",
        "            outputs = efficientnet_multi(inputs)\n",
        "            _, predicted = torch.max(outputs.data, 1)\n",
        "            total += test_labels.size(0)\n",
        "            correct += (predicted == test_labels).sum().item()\n",
        "\n",
        "        accuracy = 100 * correct / total\n",
        "\n",
        "# Acurácia de treino\n",
        "efficientnet_multi.train()\n",
        "correct = 0\n",
        "total = 0\n",
        "\n",
        "for i, data in enumerate(train_loader):\n",
        "    inputs, labels = data\n",
        "    outputs = efficientnet_multi(inputs)\n",
        "    _, predicted = torch.max(outputs.data, 1)\n",
        "    total += labels.size(0)\n",
        "    correct += (predicted == labels).sum().item()\n",
        "\n",
        "accuracy_train = 100 * correct / total\n",
        "\n",
        "# Acurácia de teste\n",
        "efficientnet_multi.eval()\n",
        "all_true_labels = []\n",
        "all_predicted_labels = []\n",
        "correct = 0\n",
        "total = 0\n",
        "\n",
        "for i, data in enumerate(test_loader):\n",
        "    inputs, labels = data\n",
        "    outputs = efficientnet_multi(inputs)\n",
        "    _, predicted = torch.max(outputs.data, 1)\n",
        "    total += labels.size(0)\n",
        "    correct += (predicted == labels).sum().item()\n",
        "\n",
        "accuracy_test = 100 * correct / total\n",
        "\n",
        "print(f\"Acurácia de treino: {accuracy_train:.2f}%\")\n",
        "print(f\"Acurácia de teste: {accuracy_test:.2f}%\")\n"
      ]
    },
    {
      "cell_type": "code",
      "execution_count": 23,
      "metadata": {},
      "outputs": [
        {
          "data": {
            "image/png": "[encoded data removed]",
            "text/plain": [
              "<Figure size 640x480 with 2 Axes>"
            ]
          },
          "metadata": {},
          "output_type": "display_data"
        }
      ],
      "source": [
        "all_true_labels.extend(test_labels.cpu().numpy())  # Convertendo para NumPy\n",
        "all_predicted_labels.extend(predicted.cpu().numpy())  # Convertendo para NumPy\n",
        "\n",
        "cm_multi= confusion_matrix(all_true_labels, all_predicted_labels)\n",
        "\n",
        "# Plotar a matriz de confusão\n",
        "plt.imshow(cm_multi, interpolation='nearest', cmap=plt.cm.Blues)\n",
        "plt.title('Matriz de Confusão - MultiClasse')\n",
        "plt.colorbar()\n",
        "\n",
        "# Adicionar anotações\n",
        "for i in range(cm_multi.shape[0]):\n",
        "    for j in range(cm_multi.shape[1]):\n",
        "        plt.text(j, i, str(cm_multi[i, j]), ha='center', va='center', color='white')\n",
        "\n",
        "# Adicionar rótulos\n",
        "classes = np.unique(all_true_labels)\n",
        "tick_marks = np.arange(len(classes))\n",
        "plt.xticks(tick_marks, classes)\n",
        "plt.yticks(tick_marks, classes)\n",
        "\n",
        "plt.xlabel('Previsto')\n",
        "plt.ylabel('Verdadeiro')\n",
        "plt.show()"
      ]
    }
  ],
  "metadata": {
    "colab": {
      "collapsed_sections": [
        "YFU6bSGpzNOU"
      ],
      "provenance": []
    },
    "kernelspec": {
      "display_name": "Python 3",
      "name": "python3"
    },
    "language_info": {
      "codemirror_mode": {
        "name": "ipython",
        "version": 3
      },
      "file_extension": ".py",
      "mimetype": "text/x-python",
      "name": "python",
      "nbconvert_exporter": "python",
      "pygments_lexer": "ipython3",
      "version": "3.10.11"
    }
  },
  "nbformat": 4,
  "nbformat_minor": 0
}
